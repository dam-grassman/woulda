{
 "cells": [
  {
   "cell_type": "markdown",
   "metadata": {},
   "source": [
    "# Woulda, Coulda, Shoulda - DRAW \n",
    " \n",
    " - *Woulda, Coulda, Shoulda : Counterfactually-Guided Policy Search*, **l. Buesing, T. Weber, Y. Zwols et al.** 2018\n",
    " - *DRAW: A Recurrent Neural Network For Image Generation* **K. Gregor, I. Danihelka, Alex Graves, et al** https://arxiv.org/abs/1502.04623\n",
    " <br> \n",
    " <br>\n",
    "<img align=\"left\"src=\"image/draw.png\" width=800 />\n"
   ]
  },
  {
   "cell_type": "markdown",
   "metadata": {},
   "source": [
    "**<a id=\"toc\"></a>Table of Content**\n",
    "\n",
    "\n",
    "\n",
    "[1. Draw : A Recurrent Neural Network For Image Generation](#draw)<br>\n",
    " - [1.1 Train model](#train)<br>\n",
    " - [1.2 Results](#results)<br>\n",
    " - [1.3 Add Constraints](#draw)<br>\n",
    " \n",
    "[2. Sanity Check when providing initial state](#sanity)<br>\n",
    "\n",
    "_______________________________"
   ]
  },
  {
   "cell_type": "markdown",
   "metadata": {},
   "source": [
    "Packages"
   ]
  },
  {
   "cell_type": "code",
   "execution_count": 2,
   "metadata": {},
   "outputs": [],
   "source": [
    "import os\n",
    "import numpy as np\n",
    "\n",
    "import torch\n",
    "import torch.nn as nn\n",
    "from torch import tensor\n",
    "import torch.optim as optim\n",
    "\n",
    "import matplotlib.pyplot as plt\n",
    "%matplotlib inline\n",
    "\n",
    "from rollout import rollout\n",
    "from sokoban_wrappers import make_sokoban, render_po, render_full\n",
    "\n",
    "from DRAW.draw_model import DRAWModel, train_draw, params\n",
    "import torch.optim as optim"
   ]
  },
  {
   "cell_type": "markdown",
   "metadata": {},
   "source": [
    "_______________________________"
   ]
  },
  {
   "cell_type": "markdown",
   "metadata": {},
   "source": [
    "### Data Collection $\\hat{h}_T$ under policy $\\mu$"
   ]
  },
  {
   "cell_type": "markdown",
   "metadata": {},
   "source": [
    "The data $\\hat{h}_T$ is collected under a uniform random policy $\\mu$. Let's do a rollout of an episode with T=50 :"
   ]
  },
  {
   "cell_type": "code",
   "execution_count": 2,
   "metadata": {},
   "outputs": [
    {
     "data": {
      "image/png": "[encoded data removed]",
      "text/plain": [
       "<Figure size 720x720 with 5 Axes>"
      ]
     },
     "metadata": {
      "needs_background": "light"
     },
     "output_type": "display_data"
    }
   ],
   "source": [
    "history = rollout(T=50, env_name='Sokoban-small-v0', po_wrapper=True, action_wrapper=True, mask_proba=0.7)\n",
    "\n",
    "fig, ax = plt.subplots(1,5, figsize=(10,10))\n",
    "for a in fig.axes: a.get_xaxis().set_visible(False) ; a.get_yaxis().set_visible(False) ;\n",
    "\n",
    "ax[0].imshow(render_full(history['initial_state']))\n",
    "ax[0].set_title('Initial state')\n",
    "for it, i in enumerate(range(0,40,10)):\n",
    "    arr = history['obs'][i]\n",
    "    ax[it+1].imshow(render_po(arr))\n",
    "    ax[it+1].set_title('t={}'.format(i))"
   ]
  },
  {
   "cell_type": "markdown",
   "metadata": {},
   "source": [
    "## <a id=\"draw\"></a>Draw : A Recurrent Neural Network For Image Generation <span  style=\"float:right\">[[toc]](#toc)</span >"
   ]
  },
  {
   "cell_type": "markdown",
   "metadata": {},
   "source": [
    "*DRAW: A Recurrent Neural Network For Image Generation* K. Gregor, I. Danihelka, Alex Graves, et al https://arxiv.org/abs/1502.04623"
   ]
  },
  {
   "cell_type": "markdown",
   "metadata": {},
   "source": [
    "The only part of the model that remains to be identified is the initial state distribution $p(U_{s_1})$. The authors proposed to use the DRAW model, a convolutional and recurrent neural network for image generation : \n",
    "1. first the obersvational history $\\hat{h}_T$ is summarized by a convolutional LSTM.\n",
    "2. Fed into a DRAW model to generate $U_{s_1} \\in \\{0,1\\}^{10 \\times 10 \\times 7}$"
   ]
  },
  {
   "cell_type": "markdown",
   "metadata": {},
   "source": [
    "**Load the data**"
   ]
  },
  {
   "cell_type": "markdown",
   "metadata": {},
   "source": [
    "For convenience, we tranpose the data to have the shape (batch, T, channel, W, H)."
   ]
  },
  {
   "cell_type": "code",
   "execution_count": 3,
   "metadata": {},
   "outputs": [
    {
     "name": "stdout",
     "output_type": "stream",
     "text": [
      "Train data : (450, 51, 7, 7, 7) \n",
      "Test data  : (100, 51, 7, 7, 7)\n"
     ]
    }
   ],
   "source": [
    "files = sorted(os.listdir('DRAW/data/7x7/'))\n",
    "max_folder = min(len(files), 10)\n",
    "split = max_folder - int(0.1*max_folder)\n",
    "\n",
    "data_train = np.load('DRAW/data/7x7/sokoban_000.npy')\n",
    "data_test = np.load('DRAW/data/7x7/sokoban_{}.npy'.format(str(split).zfill(3)))\n",
    "\n",
    "for i in range(1,split):\n",
    "    data_train = np.concatenate([data_train, np.load('DRAW/data/7x7/sokoban_{}.npy'.format(str(i).zfill(3)))], axis=0)\n",
    "for i in range(split, max_folder):\n",
    "    data_test = np.concatenate([data_test, np.load('DRAW/data/7x7/sokoban_{}.npy'.format(str(i).zfill(3)))], axis=0)\n",
    "    \n",
    "data_train = np.transpose(data_train, (0, 1, 4, 2, 3))\n",
    "data_test = np.transpose(data_test, (0, 1, 4, 2, 3))\n",
    "print('Train data :', data_train.shape, '\\nTest data  :', data_test.shape)"
   ]
  },
  {
   "cell_type": "markdown",
   "metadata": {},
   "source": [
    "__________________________________"
   ]
  },
  {
   "cell_type": "markdown",
   "metadata": {},
   "source": [
    "### <a id=\"train\"></a>Train Model"
   ]
  },
  {
   "cell_type": "markdown",
   "metadata": {},
   "source": [
    "Choose the episode length history T."
   ]
  },
  {
   "cell_type": "code",
   "execution_count": 8,
   "metadata": {},
   "outputs": [
    {
     "name": "stdout",
     "output_type": "stream",
     "text": [
      "cuda:0  will be used.\n"
     ]
    }
   ],
   "source": [
    "T, channel, W, H =  50, 7, 7, 7 \n",
    "\n",
    "# Dictionary storing network parameters.\n",
    "params['T'] = T ; params['A'] = H ; params['B'] = W ; params['channel'] = channel\n",
    "params['z_size'] = 50 ; params['batch_size'] = 8\n",
    "params['read_N'] =  params['write_N'] = H\n",
    "params['conv'] = True\n",
    "\n",
    "# Use GPU is available else use CPU.\n",
    "device = torch.device(\"cuda:0\" if(torch.cuda.is_available()) else \"cpu\")\n",
    "params['device'] = device ; print(device, \" will be used.\")"
   ]
  },
  {
   "cell_type": "code",
   "execution_count": 9,
   "metadata": {},
   "outputs": [
    {
     "name": "stdout",
     "output_type": "stream",
     "text": [
      "Conv LSTM as encoder\n"
     ]
    }
   ],
   "source": [
    "draw_model = DRAWModel(params).to(device)\n",
    "draw_optimizer = optim.Adam(draw_model.parameters(), lr=params['learning_rate'], betas=(params['beta1'], 0.999))\n",
    "\n",
    "dataloader_train = torch.utils.data.DataLoader(data_train[:, :(T+1),  :, :, :], \n",
    "                                               batch_size=params['batch_size'], shuffle=True)\n",
    "dataloader_test = torch.utils.data.DataLoader(data_test[:, :(T+1), :, :, :], \n",
    "                                              batch_size=params['batch_size'], shuffle=False)"
   ]
  },
  {
   "cell_type": "code",
   "execution_count": 10,
   "metadata": {},
   "outputs": [],
   "source": [
    "checkpoint = False\n",
    "if checkpoint :\n",
    "    model_path = 'DRAW/checkpoint/7x7final/{}/model_epoch_50'.format(T)\n",
    "    draw_model.load_state_dict(torch.load(model_path)['model'])\n",
    "    draw_optimizer.load_state_dict(torch.load(model_path)['optimizer'])    \n",
    "    params = torch.load(model_path)['params']"
   ]
  },
  {
   "cell_type": "code",
   "execution_count": 11,
   "metadata": {
    "scrolled": true
   },
   "outputs": [],
   "source": [
    "#train_draw(draw_model, draw_optimizer, params, dataloader, dataloader_test, 'DRAW/checkpoint/7x750')"
   ]
  },
  {
   "cell_type": "markdown",
   "metadata": {},
   "source": [
    "## <a id=\"results\"></a> Results"
   ]
  },
  {
   "cell_type": "code",
   "execution_count": 52,
   "metadata": {},
   "outputs": [
    {
     "name": "stdout",
     "output_type": "stream",
     "text": [
      "Conv LSTM as encoder\n"
     ]
    }
   ],
   "source": [
    "T, channel, W, H = 1, 7,7,7\n",
    "device = 'cpu'\n",
    "\n",
    "params['T'] = T ; params['z_size'] = 50\n",
    "params['A'] = H ; params['B'] = W ; params['channel'] = channel\n",
    "params['read_N'] =  params['write_N'] = H\n",
    "params['conv'] = True ; params['device'] = device\n",
    "\n",
    "draw_model = DRAWModel(params).to(device)\n",
    "optimizer = optim.Adam(draw_model.parameters(), lr=params['learning_rate'], betas=(params['beta1'], 0.999))\n",
    "\n",
    "checkpoint = True\n",
    "model_path = 'DRAW/checkpoint/7x7/{}/model_epoch_30'.format(T)\n",
    "\n",
    "if checkpoint :\n",
    "    draw_model.load_state_dict(torch.load(model_path)['model'])\n",
    "    optimizer.load_state_dict(torch.load(model_path)['optimizer'])    \n",
    "    params = torch.load(model_path)['params']"
   ]
  },
  {
   "cell_type": "code",
   "execution_count": 53,
   "metadata": {},
   "outputs": [],
   "source": [
    "def fix_player(arr):\n",
    "    mininum, maximum = np.min(arr[:,:,:]), np.max(arr[:,:,:])\n",
    "    ind = np.unravel_index(np.argmax(arr[5, :,:], axis=None), arr[5, :,:].shape)\n",
    "    arr[5, :, :] = mininum\n",
    "    arr[6, :, :] = mininum\n",
    "    arr[3, :, :] = mininum\n",
    "    arr[5, ind[0], ind[1]] = np.max(arr[:,:,:])+1\n",
    "    return arr\n",
    "\n",
    "def fix_item(arr, item):\n",
    "    mininum, maximum = np.min(arr[:,:,:]), np.max(arr[:,:,:])\n",
    "    indices = np.argwhere(arr.argmax(0)==item)\n",
    "    if len(indices) == 2:\n",
    "        pass\n",
    "    elif len(indices) > 2:\n",
    "        l = []\n",
    "        for ind in indices:\n",
    "            l.append((ind, arr[item, ind[0], ind[1]]))\n",
    "        l = sorted(l, key = lambda tup : tup[1])\n",
    "        arr[item, :,:] = mininum\n",
    "        for ind, val  in l[-2:]:\n",
    "            arr[item, ind[0],ind[1]] = maximum\n",
    "    elif len(indices) == 1:\n",
    "        ind = indices[0]\n",
    "        arr_copy = arr[item, :, :].copy()\n",
    "        arr[item, :,:] = mininum\n",
    "        arr[item,ind[0], ind[1]] = maximum\n",
    "        arr_copy[ind[0], ind[1]] = mininum \n",
    "        ind = np.unravel_index(np.argmax(arr_copy, axis=None), arr_copy.shape)\n",
    "        arr[item, ind[0],ind[1]] = maximum\n",
    "    else :\n",
    "        arr_copy = arr[item, :, :].copy()\n",
    "        arr[item, :,:] = mininum\n",
    "        ind = np.unravel_index(np.argmax(arr_copy, axis=None), arr_copy.shape)\n",
    "        arr[item, ind[0],ind[1]] = maximum\n",
    "        arr_copy[ind[0], ind[1]] = mininum \n",
    "        ind = np.unravel_index(np.argmax(arr_copy, axis=None), arr_copy.shape)\n",
    "        arr[item, ind[0],ind[1]] = maximum\n",
    "    return arr"
   ]
  },
  {
   "cell_type": "markdown",
   "metadata": {},
   "source": [
    "#### On train dataset"
   ]
  },
  {
   "cell_type": "code",
   "execution_count": 54,
   "metadata": {},
   "outputs": [
    {
     "data": {
      "image/png": "[encoded data removed]",
      "text/plain": [
       "<Figure size 720x720 with 12 Axes>"
      ]
     },
     "metadata": {
      "needs_background": "light"
     },
     "output_type": "display_data"
    }
   ],
   "source": [
    "draw_model.eval()\n",
    "fig, ax = plt.subplots(3,4, figsize=(10,10))\n",
    "for a in fig.axes: a.get_xaxis().set_visible(False) ; a.get_yaxis().set_visible(False) ;\n",
    "    \n",
    "for i, idx in enumerate([1, 11, 22]):\n",
    "    with torch.no_grad():\n",
    "        \n",
    "        draw_model.cs = [0] * draw_model.Z\n",
    "        data = data_train[idx,1:(T+1),:].reshape(T,7,7,7)\n",
    "        draw_model.forward(torch.tensor(data, dtype=torch.float32).unsqueeze(0).to(device))\n",
    "\n",
    "        arr = draw_model.cs[-1].reshape(7,7,7)#, (1,2,0))\n",
    "        arr = torch.softmax(arr, dim=0).cpu().data.numpy()\n",
    "        ax[i, 0].imshow(render_full(arr.argmax(0))) ; ax[i, 0].set_title('Predicted state')\n",
    "\n",
    "        #arr = predict_initial_state(draw_model, data)\n",
    "        arr = fix_player(arr)\n",
    "        arr = fix_item(arr,2)\n",
    "        arr = fix_item(arr,4)\n",
    "        ax[i, 3].imshow(render_full(arr.argmax(0))) ; ax[i, 3].set_title('Fixed state')\n",
    "\n",
    "        ax[i, 2].imshow(np.zeros((100,1))) ; \n",
    "\n",
    "        arr = data_train[idx,0]\n",
    "        ax[i, 1].imshow(render_full(arr.argmax(0))) ; ax[i,1].set_title('True state')"
   ]
  },
  {
   "cell_type": "markdown",
   "metadata": {},
   "source": [
    "**On test dataset**"
   ]
  },
  {
   "cell_type": "code",
   "execution_count": 55,
   "metadata": {},
   "outputs": [
    {
     "data": {
      "image/png": "[encoded data removed]",
      "text/plain": [
       "<Figure size 720x720 with 12 Axes>"
      ]
     },
     "metadata": {
      "needs_background": "light"
     },
     "output_type": "display_data"
    }
   ],
   "source": [
    "draw_model.eval()\n",
    "fig, ax = plt.subplots(3,4, figsize=(10,10))\n",
    "for a in fig.axes: a.get_xaxis().set_visible(False) ; a.get_yaxis().set_visible(False) ;\n",
    "    \n",
    "for i, idx in enumerate([11, 22, 33]):\n",
    "    with torch.no_grad():\n",
    "        draw_model.cs = [0] * draw_model.Z\n",
    "        data = data_test[idx,1:(T+1),:].reshape(T,7,7,7)\n",
    "        draw_model.forward(torch.tensor(data, dtype = torch.float32).unsqueeze(0).to(device))\n",
    "\n",
    "        arr = draw_model.cs[-1].reshape(7,7,7).cpu().data.numpy()#, (1,2,0))\n",
    "        ax[i, 0].imshow(render_full(arr.argmax(0))) ; ax[i, 0].set_title('Predicted state')\n",
    "        \n",
    "        arr = fix_player(arr)\n",
    "        arr = fix_item(arr,2)\n",
    "        arr = fix_item(arr,4)\n",
    "        ax[i, 3].imshow(render_full(arr.argmax(0))) ; ax[i, 3].set_title('Fixed state')\n",
    "        ax[i, 2].imshow(np.zeros((100,1))) ; \n",
    "\n",
    "\n",
    "        arr = data_test[idx,0]\n",
    "        ax[i, 1].imshow(render_full(arr.argmax(0))) ; ax[i, 1].set_title('True state')"
   ]
  },
  {
   "cell_type": "markdown",
   "metadata": {},
   "source": [
    "**Undersetand where the loss come from**"
   ]
  },
  {
   "cell_type": "code",
   "execution_count": 207,
   "metadata": {},
   "outputs": [
    {
     "data": {
      "image/png": "[encoded data removed]",
      "text/plain": [
       "<Figure size 720x720 with 15 Axes>"
      ]
     },
     "metadata": {
      "needs_background": "light"
     },
     "output_type": "display_data"
    }
   ],
   "source": [
    "fig, ax = plt.subplots(3,5, figsize=(10,10))\n",
    "for a in fig.axes: a.get_xaxis().set_visible(False) ; a.get_yaxis().set_visible(False) ;\n",
    "draw_model.eval()\n",
    "dataloader_test = torch.utils.data.DataLoader(data_test, batch_size=1, shuffle=True)\n",
    "\n",
    "j = 0\n",
    "for i, data_batch in enumerate(dataloader_test, 0):\n",
    "    if j > 5 :\n",
    "        break\n",
    "\n",
    "    data = torch.tensor(data_batch[:,1:,:,:,:], dtype = torch.float32).to(device) \n",
    "    data_tr = torch.tensor(data_batch[:,0], dtype = torch.float32).to(device)        \n",
    "    \n",
    "    draw_model.forward(data)\n",
    "    criterion = nn.BCELoss()\n",
    "    x_recon = torch.sigmoid(draw_model.cs[-1])\n",
    "    loss = criterion(x_recon, data_tr) * draw_model.A * draw_model.B * draw_model.channel\n",
    "    loss_val = loss.cpu().data.numpy()\n",
    "    \n",
    "    arr = draw_model.cs[-1].reshape(7,7,7) ; arr = torch.sigmoid(arr).cpu().data.numpy()\n",
    "    ax[j//2,(j%2)*3].imshow(render_full(arr.argmax(0))) ; ax[j//2,(j%2)*3].set_title('Loss {:.2f}'.format(loss_val))\n",
    "    ax[j//2,(j%2)*3+1].imshow(render_full(data_batch[0,0].argmax(0))) ; ax[j//2,(j%2)*3+1].set_title('True state')   \n",
    "    j += 1\n",
    "    \n",
    "    for i in range(j//2):\n",
    "        ax[i, 2].imshow(np.zeros((100,1))) ; "
   ]
  },
  {
   "cell_type": "code",
   "execution_count": 60,
   "metadata": {},
   "outputs": [],
   "source": [
    "def predict_initial_state(draw_model, history, transpose = False, fixed = False):\n",
    "    draw_model.eval()\n",
    "    with torch.no_grad():\n",
    "        draw_model.cs = [0] * draw_model.Z\n",
    "        if transpose :\n",
    "            history = np.transpose(history.reshape(-1,7,7,7), (0,3,1,2))\n",
    "        else :\n",
    "            history = history.reshape(-1,7,7,7)\n",
    "        draw_model.forward(torch.tensor(history.reshape(-1,7,7,7), dtype = torch.float32).unsqueeze(0).to(device))\n",
    "        arr = draw_model.cs[-1].reshape(7,7,7).cpu().data.numpy()#, (1,2,0))\n",
    "        if fixed :\n",
    "            arr = fix_player(arr)\n",
    "            arr = fix_item(arr,2)\n",
    "            arr = fix_item(arr,4)\n",
    "        return arr"
   ]
  },
  {
   "cell_type": "markdown",
   "metadata": {},
   "source": [
    "__________________"
   ]
  },
  {
   "cell_type": "markdown",
   "metadata": {},
   "source": [
    "##  <a id=\"sanity\"></a> Sanity Check when providing initial state"
   ]
  },
  {
   "cell_type": "markdown",
   "metadata": {},
   "source": [
    "Remarks : \n",
    "- if only 1 target is missing, by default, the first reward would be +1, and if agents push one box onto the last target, the game finishes with reward +12. <br> **SOLUTION** : if 1 missing target : epr = min(1, epr-1).\n",
    "- if both targets are missing , epr is 11. <br> **SOLUTION** : return 0 as epr.\n",
    "- if too many targets, the game can be solved, first reward of -1 and the +1 for the two next boxes on targets without the +12 bonus at the end. <br> **SOLUTION** : epr = epr + 1\n",
    "- if too many or too few boxes, nothing changes (only targets count) in the reward. <br> **SOLUTION** : don't do anything\n",
    "- If there is no agents, the game crashes. <br> **SOLUTION** : if no player, return 0 as epr.\n",
    "- If there is several agents, one is choose by default to be the main player. <br> **SOLUTION** : if several players, return 0 as epr."
   ]
  },
  {
   "cell_type": "code",
   "execution_count": 162,
   "metadata": {},
   "outputs": [],
   "source": [
    "def quality_check(initial_state):\n",
    "    nb_agents = np.where(initial_state==5)\n",
    "    nb_boxes = np.where(initial_state==4)\n",
    "    nb_targets = np.where(initial_state==2)\n",
    "    return len(nb_agents[0]), len(nb_boxes[0]), len(nb_targets[0])\n",
    "\n",
    "def start_allowed(initial_state):\n",
    "    ag, _ , _= quality_check(init_state)\n",
    "    if ag == 0 or ag > 1 : \n",
    "        return False\n",
    "    else :\n",
    "        return True\n",
    "def reward_correction(initial_state, reward):\n",
    "    ag, bx, tg = quality_check(init_state)\n",
    "    if tg == 1 : \n",
    "        return min(1, reward-1)\n",
    "    elif tg < 1 :\n",
    "        return 0\n",
    "    elif tg > 2 :\n",
    "        return epr+1\n",
    "    elif ag == 0 :\n",
    "        return 0\n",
    "    elif ag > 1 : \n",
    "        return 0\n",
    "    else :\n",
    "        return reward"
   ]
  },
  {
   "cell_type": "code",
   "execution_count": 166,
   "metadata": {},
   "outputs": [
    {
     "data": {
      "text/plain": [
       "<matplotlib.image.AxesImage at 0x246e83a86d0>"
      ]
     },
     "execution_count": 166,
     "metadata": {},
     "output_type": "execute_result"
    },
    {
     "data": {
      "image/png": "[encoded data removed]",
      "text/plain": [
       "<Figure size 432x288 with 1 Axes>"
      ]
     },
     "metadata": {
      "needs_background": "light"
     },
     "output_type": "display_data"
    }
   ],
   "source": [
    "init_state = np.array([\n",
    "       [0, 0, 0, 0, 0, 0, 0],\n",
    "       [0, 0, 0, 0, 2, 1, 0],\n",
    "       [0, 0, 0, 0, 2, 2, 0],\n",
    "       [0, 0, 0, 0, 1, 4, 0],\n",
    "       [0, 0, 0, 0, 1, 1, 0],\n",
    "       [0, 0, 0, 0, 5, 1, 0],\n",
    "       [0, 0, 0, 0, 0, 0, 0]])\n",
    "plt.imshow(render_full(init_state))"
   ]
  },
  {
   "cell_type": "code",
   "execution_count": 167,
   "metadata": {},
   "outputs": [],
   "source": [
    "import sys ; sys.path.append('C:/Users/damie/Desktop/WCS/baby_a3c')\n",
    "from test_a3c import run_test, create_env, SokobanPolicy"
   ]
  },
  {
   "cell_type": "code",
   "execution_count": 163,
   "metadata": {},
   "outputs": [
    {
     "name": "stdout",
     "output_type": "stream",
     "text": [
      "\n"
     ]
    }
   ],
   "source": [
    "env = create_env('Sokoban-small-v0', nb_room = 0,  mask_proba=0.7)\n",
    "state = torch.tensor(env.reset(**{'array':init_state}))\n",
    "episode_length, epr, done  = 0, 0, True # bookkeeping\n",
    "\n",
    "import time\n",
    "try :\n",
    "    for i in range(10):\n",
    "        env.render()\n",
    "        action = input()\n",
    "        state, reward, done, _ = env.step(int(action))\n",
    "        time.sleep(1)\n",
    "        print(reward)\n",
    "except :\n",
    "    pass\n",
    "env.close()"
   ]
  },
  {
   "cell_type": "markdown",
   "metadata": {},
   "source": [
    "_____________________"
   ]
  }
 ],
 "metadata": {
  "kernelspec": {
   "display_name": "Python 3",
   "language": "python",
   "name": "python3"
  },
  "language_info": {
   "codemirror_mode": {
    "name": "ipython",
    "version": 3
   },
   "file_extension": ".py",
   "mimetype": "text/x-python",
   "name": "python",
   "nbconvert_exporter": "python",
   "pygments_lexer": "ipython3",
   "version": "3.8.3"
  }
 },
 "nbformat": 4,
 "nbformat_minor": 2
}
