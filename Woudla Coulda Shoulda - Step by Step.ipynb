{
 "cells": [
  {
   "cell_type": "markdown",
   "metadata": {},
   "source": [
    "# Woulda, Coulda, Shoulda : Counterfactually-Guided Policy Search\n",
    "\n",
    " *Woulda, Coulda, Shoulda : Counterfactually-Guided Policy Search*, **l. Buesing, T. Weber, Y. Zwols et al.** 2018\n",
    " \n",
    "<img src=\"image/intro.png\" width=600 height=100 />\n"
   ]
  },
  {
   "cell_type": "markdown",
   "metadata": {},
   "source": [
    "Goal : leverage possible (yet to prove) advantages of *counterfactual* reasoning for learning decision making in RL.\n",
    "\n",
    "What *would have happened*, had you chose a different action ? Can we simulate counterfactual (and plausible) experiences instead of large amounts of real experiences (which can be costly to acquire)?\n",
    "\n",
    "Solution : the authors proposed a new algorithm for learning policies in PO-MDPs from off-policy experience, called the Counterfactually-Guided Policy Search (**CF-GPS**). It explicitely considers alternative outcomes, allowing the algorithm to make better use of experience data.\n",
    "\n",
    "_________________"
   ]
  },
  {
   "cell_type": "markdown",
   "metadata": {},
   "source": [
    "**<a id=\"toc\"></a>Table of Content**\n",
    "\n",
    "[1. Introduction to Causality](#intro)<br>\n",
    "   - [1.1 Preliminaries](#Preliminaries)<br>\n",
    "   - [1.2 Structural Causal Model](#Structural-Causal-Model)<br>\n",
    "   - [1.3 Counterfactual Inference (CFI) in SMCs](#scm)<br>\n",
    " \n",
    "[2. Policy Evaluation](#policy)\n",
    "   - [2.1 Off-policy evaluation](#off-policy)<br>\n",
    "   - [2.2 Learn a policy](#)<br>\n",
    "\n",
    "\n",
    "[3. Sokoban Game](#Sokoban)<br>\n",
    "\n",
    "[4. Train an RL Agent to evaluate](#rl-training)<br>\n",
    "\n",
    "\n",
    "[4. Draw : A Recurrent Neural Network For Image Generation](#draw)<br>\n",
    " - [4.1 Train model](#draw)<br>\n",
    " - [4.2 Results](#draw)<br>\n",
    " - [4.3 Add Constraint](#draw)<br>\n",
    " \n",
    "[5. Counterfactual Policy Evaluation](#countereval)\n",
    "\n",
    "[6. Counterfactually-Guided Policy Search](#counter)\n",
    "\n",
    "[7.Discussion](#discuss)\n",
    "\n",
    "[8. Appendix Results](#appendix)\n",
    "\n",
    "\n",
    "_______________________________"
   ]
  },
  {
   "cell_type": "markdown",
   "metadata": {},
   "source": [
    "Packages"
   ]
  },
  {
   "cell_type": "code",
   "execution_count": 88,
   "metadata": {},
   "outputs": [],
   "source": [
    "import os\n",
    "import torch\n",
    "import numpy as np\n",
    "from torch import tensor\n",
    "import matplotlib.pyplot as plt\n",
    "%matplotlib inline"
   ]
  },
  {
   "cell_type": "markdown",
   "metadata": {},
   "source": [
    "_______________________________"
   ]
  },
  {
   "cell_type": "markdown",
   "metadata": {},
   "source": [
    "## <a id=\"intro\"></a> 1. Introduction to Causality\n",
    "\n",
    "### Preliminaries"
   ]
  },
  {
   "cell_type": "markdown",
   "metadata": {},
   "source": [
    "- X, Y, Z (capital letters) are random variables, and x, y, z particular values.\n",
    "- if X vector-valued rv with distrib P (density p), $Y \\subset X$ with marginal $P_Y$ (dens. $p_Y$)\n",
    "- **POMDP** : Partially Observable Markov Decisino Process $(S_t, A_t, O_t, R_t, \\gamma)$. In their settings, observation $O_t$ includes $R_t$,  $\\gamma \\in [0,1]$ discounted factor. Stochastic policies $\\pi(a_t | h_t)$ over actions conditioned on observation history $H_t = (O_1, A_1, ..., A_{t-1}, O_t)$. "
   ]
  },
  {
   "cell_type": "markdown",
   "metadata": {},
   "source": [
    "### Structural Causal Model"
   ]
  },
  {
   "cell_type": "markdown",
   "metadata": {},
   "source": [
    "**Definition 1 - Structural Causal Model** : \n",
    "\n",
    "A SCM over $X=(X_1, ..., X_N)$, denoted $\\mathcal{M}$, is given by a DAG (Directed Acyclic Graph) denoted $\\mathcal{G}$, over nodes X, indep. noise rvs $U=(U_1, ...U_N)$ (with distrib $P_{U_i}$) and function $f_1, ..., f_N$ s.t $X_i = f_i(\\mbox{pa}_i, U_i)$ (with $\\mbox{pa}_i \\subset X$, parents of $X_i$ in $\\mathcal{G}$). An SCM entails a distribution P with density $p$ over $(X,U)$."
   ]
  },
  {
   "cell_type": "markdown",
   "metadata": {},
   "source": [
    "Rmks : $U$ are called *scenarios*, and $f_i$ causal mechanisms."
   ]
  },
  {
   "cell_type": "markdown",
   "metadata": {},
   "source": [
    "**Definition 2 - Intervention in SCM** : \n",
    "\n",
    "An intervention $I$ in an SCM $\\mathcal{M}$ consists in replacing some of the original $f_i(\\mbox{pa}_i, U_i)$ with other functions $f_i^I(\\mbox{pa}_i^I, U_i)$ where $\\mbox{pa}_i^I$ are the parents in the new DAG, $\\mathcal{G}^I$. The resulting SCM is denoted $\\mathcal{M}^{\\mbox{do(I)}}$ with distribution  $P^{\\mbox{do(I)}}$  and density  $p^{\\mbox{do(I)}}$ "
   ]
  },
  {
   "cell_type": "markdown",
   "metadata": {},
   "source": [
    "**Alice's job choice :**\n",
    "\n",
    "Drescription : Alice had two job offers from companies $a_1, a_2$ and decided to join $a_1$ (because of the salary, but bit reluctant for the rest). One month later, she has an echo for a friend about $a_2$. What would have happen if she had join $a_2$? Did she make a regrettable decision ?\n",
    "\n",
    "- Context $U_c$, given before she takes an action $A$ ($A \\in \\{a_1, a_2\\}$)\n",
    "- Potential indeterminacy $U_a$ in Alice's decision making.\n",
    "- Alice's decision $A = f_{\\pi}(U_c, U_a)$.\n",
    "- Outcome $O = f_{o}(A, U_c, U_o)$ depends also on $U_o$ (all relevant, unobserved, complex properties of both companies).\n",
    "\n",
    "```python\n",
    "a = f1(u_c, u_a)\n",
    "o = f2(a, u_c, u_o)\n",
    "```"
   ]
  },
  {
   "cell_type": "code",
   "execution_count": 2,
   "metadata": {},
   "outputs": [
    {
     "data": {
      "image/svg+xml": [
       "<?xml version=\"1.0\" encoding=\"UTF-8\" standalone=\"no\"?>\r\n",
       "<!DOCTYPE svg PUBLIC \"-//W3C//DTD SVG 1.1//EN\"\r\n",
       " \"http://www.w3.org/Graphics/SVG/1.1/DTD/svg11.dtd\">\r\n",
       "<!-- Generated by graphviz version 2.38.0 (20140413.2041)\r\n",
       " -->\r\n",
       "<!-- Title: %3 Pages: 1 -->\r\n",
       "<svg width=\"189pt\" height=\"188pt\"\r\n",
       " viewBox=\"0.00 0.00 189.00 188.00\" xmlns=\"http://www.w3.org/2000/svg\" xmlns:xlink=\"http://www.w3.org/1999/xlink\">\r\n",
       "<g id=\"graph0\" class=\"graph\" transform=\"scale(1 1) rotate(0) translate(4 184)\">\r\n",
       "<title>%3</title>\r\n",
       "<polygon fill=\"white\" stroke=\"none\" points=\"-4,4 -4,-184 185,-184 185,4 -4,4\"/>\r\n",
       "<!-- A -->\r\n",
       "<g id=\"node1\" class=\"node\"><title>A</title>\r\n",
       "<ellipse fill=\"none\" stroke=\"black\" cx=\"44\" cy=\"-90\" rx=\"27\" ry=\"18\"/>\r\n",
       "<text text-anchor=\"middle\" x=\"44\" y=\"-86.3\" font-family=\"Times New Roman,serif\" font-size=\"14.00\">A</text>\r\n",
       "</g>\r\n",
       "<!-- O -->\r\n",
       "<g id=\"node5\" class=\"node\"><title>O</title>\r\n",
       "<ellipse fill=\"none\" stroke=\"black\" cx=\"99\" cy=\"-18\" rx=\"27\" ry=\"18\"/>\r\n",
       "<text text-anchor=\"middle\" x=\"99\" y=\"-14.3\" font-family=\"Times New Roman,serif\" font-size=\"14.00\">O</text>\r\n",
       "</g>\r\n",
       "<!-- A&#45;&gt;O -->\r\n",
       "<g id=\"edge5\" class=\"edge\"><title>A&#45;&gt;O</title>\r\n",
       "<path fill=\"none\" stroke=\"black\" d=\"M55.9342,-73.811C63.2136,-64.5464 72.6626,-52.5203 80.8544,-42.0944\"/>\r\n",
       "<polygon fill=\"black\" stroke=\"black\" points=\"83.663,-44.1849 87.0891,-34.1593 78.1587,-39.8601 83.663,-44.1849\"/>\r\n",
       "</g>\r\n",
       "<!-- Uc -->\r\n",
       "<g id=\"node2\" class=\"node\"><title>Uc</title>\r\n",
       "<ellipse fill=\"none\" stroke=\"black\" cx=\"99\" cy=\"-162\" rx=\"27\" ry=\"18\"/>\r\n",
       "<text text-anchor=\"middle\" x=\"99\" y=\"-158.3\" font-family=\"Times New Roman,serif\" font-size=\"14.00\">Uc</text>\r\n",
       "</g>\r\n",
       "<!-- Uc&#45;&gt;A -->\r\n",
       "<g id=\"edge2\" class=\"edge\"><title>Uc&#45;&gt;A</title>\r\n",
       "<path fill=\"none\" stroke=\"black\" d=\"M87.0658,-145.811C79.7864,-136.546 70.3374,-124.52 62.1456,-114.094\"/>\r\n",
       "<polygon fill=\"black\" stroke=\"black\" points=\"64.8413,-111.86 55.9109,-106.159 59.337,-116.185 64.8413,-111.86\"/>\r\n",
       "</g>\r\n",
       "<!-- Uc&#45;&gt;O -->\r\n",
       "<g id=\"edge3\" class=\"edge\"><title>Uc&#45;&gt;O</title>\r\n",
       "<path fill=\"none\" stroke=\"black\" d=\"M99,-143.871C99,-119.67 99,-75.2108 99,-46.3932\"/>\r\n",
       "<polygon fill=\"black\" stroke=\"black\" points=\"102.5,-46.1892 99,-36.1893 95.5001,-46.1893 102.5,-46.1892\"/>\r\n",
       "</g>\r\n",
       "<!-- Ua -->\r\n",
       "<g id=\"node3\" class=\"node\"><title>Ua</title>\r\n",
       "<ellipse fill=\"none\" stroke=\"black\" cx=\"27\" cy=\"-162\" rx=\"27\" ry=\"18\"/>\r\n",
       "<text text-anchor=\"middle\" x=\"27\" y=\"-158.3\" font-family=\"Times New Roman,serif\" font-size=\"14.00\">Ua</text>\r\n",
       "</g>\r\n",
       "<!-- Ua&#45;&gt;A -->\r\n",
       "<g id=\"edge1\" class=\"edge\"><title>Ua&#45;&gt;A</title>\r\n",
       "<path fill=\"none\" stroke=\"black\" d=\"M31.1152,-144.055C33.0081,-136.261 35.3004,-126.822 37.4237,-118.079\"/>\r\n",
       "<polygon fill=\"black\" stroke=\"black\" points=\"40.8457,-118.819 39.8046,-108.275 34.0434,-117.167 40.8457,-118.819\"/>\r\n",
       "</g>\r\n",
       "<!-- Uo -->\r\n",
       "<g id=\"node4\" class=\"node\"><title>Uo</title>\r\n",
       "<ellipse fill=\"none\" stroke=\"black\" cx=\"154\" cy=\"-90\" rx=\"27\" ry=\"18\"/>\r\n",
       "<text text-anchor=\"middle\" x=\"154\" y=\"-86.3\" font-family=\"Times New Roman,serif\" font-size=\"14.00\">Uo</text>\r\n",
       "</g>\r\n",
       "<!-- Uo&#45;&gt;O -->\r\n",
       "<g id=\"edge4\" class=\"edge\"><title>Uo&#45;&gt;O</title>\r\n",
       "<path fill=\"none\" stroke=\"black\" d=\"M142.066,-73.811C134.786,-64.5464 125.337,-52.5203 117.146,-42.0944\"/>\r\n",
       "<polygon fill=\"black\" stroke=\"black\" points=\"119.841,-39.8601 110.911,-34.1593 114.337,-44.1849 119.841,-39.8601\"/>\r\n",
       "</g>\r\n",
       "</g>\r\n",
       "</svg>\r\n"
      ],
      "text/plain": [
       "<graphviz.dot.Digraph at 0x167c7f8bd30>"
      ]
     },
     "execution_count": 2,
     "metadata": {},
     "output_type": "execute_result"
    }
   ],
   "source": [
    "from causalgraphicalmodels import CausalGraphicalModel, StructuralCausalModel\n",
    "from causalinference import CausalModel\n",
    "\n",
    "sprinkler = CausalGraphicalModel(nodes=[\"Ua\", \"Uc\", \"Uo\", \"A\", \"O\"],\n",
    "                                 edges=[(\"Ua\", \"A\"), (\"Uc\", \"A\"), (\"Uc\", \"O\"), (\"Uo\", \"O\"), (\"A\", \"O\")])\n",
    "sprinkler.draw()"
   ]
  },
  {
   "cell_type": "markdown",
   "metadata": {},
   "source": [
    "Intruition : Alice had some initial intuition given by context $U_c$, and alongside some potential indeterminacy captured by $U_a$, she took a decision $A = f_\\pi(U_c, U_a)$. The outcome $O$ will then depends on her decision $A$, the context $U_c$ but also on all the relevant unobserved properties given by the scenario $U_o$."
   ]
  },
  {
   "cell_type": "markdown",
   "metadata": {},
   "source": [
    "Given a fix scenario $u_o$, we can reason about alternate outcomes  $f_{o}(a_1, u_c, u_o)$ and $f_{o}(a_2, u_c, u_o)$"
   ]
  },
  {
   "cell_type": "markdown",
   "metadata": {},
   "source": [
    "**SMC with POMDP** with initial state $U_{s_1} = S_1$, states $S_t$ and histories $H_t$ "
   ]
  },
  {
   "cell_type": "code",
   "execution_count": 3,
   "metadata": {},
   "outputs": [],
   "source": [
    "nodes = [\"U_o1\", \"U_s1\", \"O_1\"]\n",
    "edges = [(\"U_o1\", \"O_1\" ), (\"U_s1\",\"O_1\" )]\n",
    "\n",
    "for t in range(2, 5): \n",
    "    nodes.extend([\"U_o%s\"%t, \"U_s%s\"%t, \"U_a%s\"%(t-1), \"O_%s\"%t, \"H_%s\"%(t-1),  \"A_%s\"%(t-1), \"S_%s\"%t ])\n",
    "    edges.extend([(\"O_%s\"%(t-1),\"H_%s\"%(t-1)), \n",
    "                  (\"H_%s\"%(t-1),  \"A_%s\"%(t-1)), (\"U_a%s\"%(t-1), \"A_%s\"%(t-1)),\n",
    "                  (\"A_%s\"%(t-1), \"S_%s\"%t ), (\"U_s%s\"%t, \"S_%s\"%t), \n",
    "                  ( \"S_%s\"%t,  \"O_%s\"%t), (\"U_o%s\"%t, \"O_%s\"%t)])\n",
    "    if t == 2 :\n",
    "        edges.append((\"U_s1\", \"S_2\"))\n",
    "    else :\n",
    "        edges.append((\"S_%s\"%(t-1), \"S_%s\"%t))\n",
    "    \n",
    "sprinkler = CausalGraphicalModel(nodes=nodes, edges=edges)\n"
   ]
  },
  {
   "cell_type": "code",
   "execution_count": 4,
   "metadata": {
    "scrolled": false
   },
   "outputs": [
    {
     "name": "stdout",
     "output_type": "stream",
     "text": [
      "SCM for a POMDP with initial state U_s1 = S_1, state S_t and histories H_t\n"
     ]
    },
    {
     "data": {
      "image/svg+xml": [
       "<?xml version=\"1.0\" encoding=\"UTF-8\" standalone=\"no\"?>\r\n",
       "<!DOCTYPE svg PUBLIC \"-//W3C//DTD SVG 1.1//EN\"\r\n",
       " \"http://www.w3.org/Graphics/SVG/1.1/DTD/svg11.dtd\">\r\n",
       "<!-- Generated by graphviz version 2.38.0 (20140413.2041)\r\n",
       " -->\r\n",
       "<!-- Title: %3 Pages: 1 -->\r\n",
       "<svg width=\"260pt\" height=\"980pt\"\r\n",
       " viewBox=\"0.00 0.00 260.09 980.00\" xmlns=\"http://www.w3.org/2000/svg\" xmlns:xlink=\"http://www.w3.org/1999/xlink\">\r\n",
       "<g id=\"graph0\" class=\"graph\" transform=\"scale(1 1) rotate(0) translate(4 976)\">\r\n",
       "<title>%3</title>\r\n",
       "<polygon fill=\"white\" stroke=\"none\" points=\"-4,4 -4,-976 256.095,-976 256.095,4 -4,4\"/>\r\n",
       "<!-- S_4 -->\r\n",
       "<g id=\"node1\" class=\"node\"><title>S_4</title>\r\n",
       "<ellipse fill=\"none\" stroke=\"black\" cx=\"145.547\" cy=\"-90\" rx=\"27\" ry=\"18\"/>\r\n",
       "<text text-anchor=\"middle\" x=\"145.547\" y=\"-86.3\" font-family=\"Times New Roman,serif\" font-size=\"14.00\">S_4</text>\r\n",
       "</g>\r\n",
       "<!-- O_4 -->\r\n",
       "<g id=\"node22\" class=\"node\"><title>O_4</title>\r\n",
       "<ellipse fill=\"none\" stroke=\"black\" cx=\"107.547\" cy=\"-18\" rx=\"27\" ry=\"18\"/>\r\n",
       "<text text-anchor=\"middle\" x=\"107.547\" y=\"-14.3\" font-family=\"Times New Roman,serif\" font-size=\"14.00\">O_4</text>\r\n",
       "</g>\r\n",
       "<!-- S_4&#45;&gt;O_4 -->\r\n",
       "<g id=\"edge26\" class=\"edge\"><title>S_4&#45;&gt;O_4</title>\r\n",
       "<path fill=\"none\" stroke=\"black\" d=\"M136.734,-72.7646C132.13,-64.2831 126.392,-53.7144 121.226,-44.1974\"/>\r\n",
       "<polygon fill=\"black\" stroke=\"black\" points=\"124.16,-42.266 116.313,-35.1473 118.008,-45.6057 124.16,-42.266\"/>\r\n",
       "</g>\r\n",
       "<!-- U_o4 -->\r\n",
       "<g id=\"node2\" class=\"node\"><title>U_o4</title>\r\n",
       "<ellipse fill=\"none\" stroke=\"black\" cx=\"69.5473\" cy=\"-90\" rx=\"31.3957\" ry=\"18\"/>\r\n",
       "<text text-anchor=\"middle\" x=\"69.5473\" y=\"-86.3\" font-family=\"Times New Roman,serif\" font-size=\"14.00\">U_o4</text>\r\n",
       "</g>\r\n",
       "<!-- U_o4&#45;&gt;O_4 -->\r\n",
       "<g id=\"edge21\" class=\"edge\"><title>U_o4&#45;&gt;O_4</title>\r\n",
       "<path fill=\"none\" stroke=\"black\" d=\"M78.5528,-72.411C83.0959,-64.0421 88.7048,-53.7098 93.7751,-44.3698\"/>\r\n",
       "<polygon fill=\"black\" stroke=\"black\" points=\"96.9115,-45.9283 98.6065,-35.4699 90.7595,-42.5887 96.9115,-45.9283\"/>\r\n",
       "</g>\r\n",
       "<!-- U_a3 -->\r\n",
       "<g id=\"node3\" class=\"node\"><title>U_a3</title>\r\n",
       "<ellipse fill=\"none\" stroke=\"black\" cx=\"145.547\" cy=\"-234\" rx=\"30.5947\" ry=\"18\"/>\r\n",
       "<text text-anchor=\"middle\" x=\"145.547\" y=\"-230.3\" font-family=\"Times New Roman,serif\" font-size=\"14.00\">U_a3</text>\r\n",
       "</g>\r\n",
       "<!-- A_3 -->\r\n",
       "<g id=\"node5\" class=\"node\"><title>A_3</title>\r\n",
       "<ellipse fill=\"none\" stroke=\"black\" cx=\"145.547\" cy=\"-162\" rx=\"27\" ry=\"18\"/>\r\n",
       "<text text-anchor=\"middle\" x=\"145.547\" y=\"-158.3\" font-family=\"Times New Roman,serif\" font-size=\"14.00\">A_3</text>\r\n",
       "</g>\r\n",
       "<!-- U_a3&#45;&gt;A_3 -->\r\n",
       "<g id=\"edge23\" class=\"edge\"><title>U_a3&#45;&gt;A_3</title>\r\n",
       "<path fill=\"none\" stroke=\"black\" d=\"M145.547,-215.697C145.547,-207.983 145.547,-198.712 145.547,-190.112\"/>\r\n",
       "<polygon fill=\"black\" stroke=\"black\" points=\"149.047,-190.104 145.547,-180.104 142.047,-190.104 149.047,-190.104\"/>\r\n",
       "</g>\r\n",
       "<!-- H_3 -->\r\n",
       "<g id=\"node4\" class=\"node\"><title>H_3</title>\r\n",
       "<ellipse fill=\"none\" stroke=\"black\" cx=\"221.547\" cy=\"-234\" rx=\"27\" ry=\"18\"/>\r\n",
       "<text text-anchor=\"middle\" x=\"221.547\" y=\"-230.3\" font-family=\"Times New Roman,serif\" font-size=\"14.00\">H_3</text>\r\n",
       "</g>\r\n",
       "<!-- H_3&#45;&gt;A_3 -->\r\n",
       "<g id=\"edge24\" class=\"edge\"><title>H_3&#45;&gt;A_3</title>\r\n",
       "<path fill=\"none\" stroke=\"black\" d=\"M206.168,-218.834C195.351,-208.872 180.69,-195.369 168.496,-184.137\"/>\r\n",
       "<polygon fill=\"black\" stroke=\"black\" points=\"170.631,-181.345 160.904,-177.144 165.888,-186.494 170.631,-181.345\"/>\r\n",
       "</g>\r\n",
       "<!-- A_3&#45;&gt;S_4 -->\r\n",
       "<g id=\"edge25\" class=\"edge\"><title>A_3&#45;&gt;S_4</title>\r\n",
       "<path fill=\"none\" stroke=\"black\" d=\"M145.547,-143.697C145.547,-135.983 145.547,-126.712 145.547,-118.112\"/>\r\n",
       "<polygon fill=\"black\" stroke=\"black\" points=\"149.047,-118.104 145.547,-108.104 142.047,-118.104 149.047,-118.104\"/>\r\n",
       "</g>\r\n",
       "<!-- A_2 -->\r\n",
       "<g id=\"node6\" class=\"node\"><title>A_2</title>\r\n",
       "<ellipse fill=\"none\" stroke=\"black\" cx=\"115.547\" cy=\"-450\" rx=\"27\" ry=\"18\"/>\r\n",
       "<text text-anchor=\"middle\" x=\"115.547\" y=\"-446.3\" font-family=\"Times New Roman,serif\" font-size=\"14.00\">A_2</text>\r\n",
       "</g>\r\n",
       "<!-- S_3 -->\r\n",
       "<g id=\"node8\" class=\"node\"><title>S_3</title>\r\n",
       "<ellipse fill=\"none\" stroke=\"black\" cx=\"115.547\" cy=\"-378\" rx=\"27\" ry=\"18\"/>\r\n",
       "<text text-anchor=\"middle\" x=\"115.547\" y=\"-374.3\" font-family=\"Times New Roman,serif\" font-size=\"14.00\">S_3</text>\r\n",
       "</g>\r\n",
       "<!-- A_2&#45;&gt;S_3 -->\r\n",
       "<g id=\"edge18\" class=\"edge\"><title>A_2&#45;&gt;S_3</title>\r\n",
       "<path fill=\"none\" stroke=\"black\" d=\"M115.547,-431.697C115.547,-423.983 115.547,-414.712 115.547,-406.112\"/>\r\n",
       "<polygon fill=\"black\" stroke=\"black\" points=\"119.047,-406.104 115.547,-396.104 112.047,-406.104 119.047,-406.104\"/>\r\n",
       "</g>\r\n",
       "<!-- U_a2 -->\r\n",
       "<g id=\"node7\" class=\"node\"><title>U_a2</title>\r\n",
       "<ellipse fill=\"none\" stroke=\"black\" cx=\"115.547\" cy=\"-522\" rx=\"30.5947\" ry=\"18\"/>\r\n",
       "<text text-anchor=\"middle\" x=\"115.547\" y=\"-518.3\" font-family=\"Times New Roman,serif\" font-size=\"14.00\">U_a2</text>\r\n",
       "</g>\r\n",
       "<!-- U_a2&#45;&gt;A_2 -->\r\n",
       "<g id=\"edge15\" class=\"edge\"><title>U_a2&#45;&gt;A_2</title>\r\n",
       "<path fill=\"none\" stroke=\"black\" d=\"M115.547,-503.697C115.547,-495.983 115.547,-486.712 115.547,-478.112\"/>\r\n",
       "<polygon fill=\"black\" stroke=\"black\" points=\"119.047,-478.104 115.547,-468.104 112.047,-478.104 119.047,-478.104\"/>\r\n",
       "</g>\r\n",
       "<!-- S_3&#45;&gt;S_4 -->\r\n",
       "<g id=\"edge20\" class=\"edge\"><title>S_3&#45;&gt;S_4</title>\r\n",
       "<path fill=\"none\" stroke=\"black\" d=\"M111.228,-360.026C102.051,-320.744 83.4934,-221.048 109.547,-144 113.128,-133.41 119.446,-122.967 125.799,-114.187\"/>\r\n",
       "<polygon fill=\"black\" stroke=\"black\" points=\"128.756,-116.083 132.065,-106.018 123.202,-111.823 128.756,-116.083\"/>\r\n",
       "</g>\r\n",
       "<!-- O_3 -->\r\n",
       "<g id=\"node14\" class=\"node\"><title>O_3</title>\r\n",
       "<ellipse fill=\"none\" stroke=\"black\" cx=\"206.547\" cy=\"-306\" rx=\"27\" ry=\"18\"/>\r\n",
       "<text text-anchor=\"middle\" x=\"206.547\" y=\"-302.3\" font-family=\"Times New Roman,serif\" font-size=\"14.00\">O_3</text>\r\n",
       "</g>\r\n",
       "<!-- S_3&#45;&gt;O_3 -->\r\n",
       "<g id=\"edge19\" class=\"edge\"><title>S_3&#45;&gt;O_3</title>\r\n",
       "<path fill=\"none\" stroke=\"black\" d=\"M132.664,-363.834C146.391,-353.274 165.857,-338.3 181.363,-326.373\"/>\r\n",
       "<polygon fill=\"black\" stroke=\"black\" points=\"183.715,-328.979 189.508,-320.107 179.447,-323.43 183.715,-328.979\"/>\r\n",
       "</g>\r\n",
       "<!-- A_1 -->\r\n",
       "<g id=\"node9\" class=\"node\"><title>A_1</title>\r\n",
       "<ellipse fill=\"none\" stroke=\"black\" cx=\"85.5473\" cy=\"-738\" rx=\"27\" ry=\"18\"/>\r\n",
       "<text text-anchor=\"middle\" x=\"85.5473\" y=\"-734.3\" font-family=\"Times New Roman,serif\" font-size=\"14.00\">A_1</text>\r\n",
       "</g>\r\n",
       "<!-- S_2 -->\r\n",
       "<g id=\"node16\" class=\"node\"><title>S_2</title>\r\n",
       "<ellipse fill=\"none\" stroke=\"black\" cx=\"85.5473\" cy=\"-666\" rx=\"27\" ry=\"18\"/>\r\n",
       "<text text-anchor=\"middle\" x=\"85.5473\" y=\"-662.3\" font-family=\"Times New Roman,serif\" font-size=\"14.00\">S_2</text>\r\n",
       "</g>\r\n",
       "<!-- A_1&#45;&gt;S_2 -->\r\n",
       "<g id=\"edge10\" class=\"edge\"><title>A_1&#45;&gt;S_2</title>\r\n",
       "<path fill=\"none\" stroke=\"black\" d=\"M85.5473,-719.697C85.5473,-711.983 85.5473,-702.712 85.5473,-694.112\"/>\r\n",
       "<polygon fill=\"black\" stroke=\"black\" points=\"89.0474,-694.104 85.5473,-684.104 82.0474,-694.104 89.0474,-694.104\"/>\r\n",
       "</g>\r\n",
       "<!-- H_1 -->\r\n",
       "<g id=\"node10\" class=\"node\"><title>H_1</title>\r\n",
       "<ellipse fill=\"none\" stroke=\"black\" cx=\"85.5473\" cy=\"-810\" rx=\"27\" ry=\"18\"/>\r\n",
       "<text text-anchor=\"middle\" x=\"85.5473\" y=\"-806.3\" font-family=\"Times New Roman,serif\" font-size=\"14.00\">H_1</text>\r\n",
       "</g>\r\n",
       "<!-- H_1&#45;&gt;A_1 -->\r\n",
       "<g id=\"edge9\" class=\"edge\"><title>H_1&#45;&gt;A_1</title>\r\n",
       "<path fill=\"none\" stroke=\"black\" d=\"M85.5473,-791.697C85.5473,-783.983 85.5473,-774.712 85.5473,-766.112\"/>\r\n",
       "<polygon fill=\"black\" stroke=\"black\" points=\"89.0474,-766.104 85.5473,-756.104 82.0474,-766.104 89.0474,-766.104\"/>\r\n",
       "</g>\r\n",
       "<!-- H_2 -->\r\n",
       "<g id=\"node11\" class=\"node\"><title>H_2</title>\r\n",
       "<ellipse fill=\"none\" stroke=\"black\" cx=\"191.547\" cy=\"-522\" rx=\"27\" ry=\"18\"/>\r\n",
       "<text text-anchor=\"middle\" x=\"191.547\" y=\"-518.3\" font-family=\"Times New Roman,serif\" font-size=\"14.00\">H_2</text>\r\n",
       "</g>\r\n",
       "<!-- H_2&#45;&gt;A_2 -->\r\n",
       "<g id=\"edge17\" class=\"edge\"><title>H_2&#45;&gt;A_2</title>\r\n",
       "<path fill=\"none\" stroke=\"black\" d=\"M176.168,-506.834C165.351,-496.872 150.69,-483.369 138.496,-472.137\"/>\r\n",
       "<polygon fill=\"black\" stroke=\"black\" points=\"140.631,-469.345 130.904,-465.144 135.888,-474.494 140.631,-469.345\"/>\r\n",
       "</g>\r\n",
       "<!-- U_s4 -->\r\n",
       "<g id=\"node12\" class=\"node\"><title>U_s4</title>\r\n",
       "<ellipse fill=\"none\" stroke=\"black\" cx=\"221.547\" cy=\"-162\" rx=\"30.5947\" ry=\"18\"/>\r\n",
       "<text text-anchor=\"middle\" x=\"221.547\" y=\"-158.3\" font-family=\"Times New Roman,serif\" font-size=\"14.00\">U_s4</text>\r\n",
       "</g>\r\n",
       "<!-- U_s4&#45;&gt;S_4 -->\r\n",
       "<g id=\"edge22\" class=\"edge\"><title>U_s4&#45;&gt;S_4</title>\r\n",
       "<path fill=\"none\" stroke=\"black\" d=\"M205.8,-146.496C194.958,-136.51 180.383,-123.086 168.285,-111.942\"/>\r\n",
       "<polygon fill=\"black\" stroke=\"black\" points=\"170.482,-109.208 160.756,-105.008 165.74,-114.357 170.482,-109.208\"/>\r\n",
       "</g>\r\n",
       "<!-- U_s1 -->\r\n",
       "<g id=\"node13\" class=\"node\"><title>U_s1</title>\r\n",
       "<ellipse fill=\"none\" stroke=\"black\" cx=\"30.5473\" cy=\"-954\" rx=\"30.5947\" ry=\"18\"/>\r\n",
       "<text text-anchor=\"middle\" x=\"30.5473\" y=\"-950.3\" font-family=\"Times New Roman,serif\" font-size=\"14.00\">U_s1</text>\r\n",
       "</g>\r\n",
       "<!-- U_s1&#45;&gt;S_2 -->\r\n",
       "<g id=\"edge3\" class=\"edge\"><title>U_s1&#45;&gt;S_2</title>\r\n",
       "<path fill=\"none\" stroke=\"black\" d=\"M29.0448,-936.01C26.1774,-896.695 22.4183,-796.934 49.5473,-720 53.2649,-709.457 59.6119,-699.024 65.9507,-690.239\"/>\r\n",
       "<polygon fill=\"black\" stroke=\"black\" points=\"68.9071,-692.134 72.1893,-682.061 63.3415,-687.889 68.9071,-692.134\"/>\r\n",
       "</g>\r\n",
       "<!-- O_1 -->\r\n",
       "<g id=\"node18\" class=\"node\"><title>O_1</title>\r\n",
       "<ellipse fill=\"none\" stroke=\"black\" cx=\"85.5473\" cy=\"-882\" rx=\"27\" ry=\"18\"/>\r\n",
       "<text text-anchor=\"middle\" x=\"85.5473\" y=\"-878.3\" font-family=\"Times New Roman,serif\" font-size=\"14.00\">O_1</text>\r\n",
       "</g>\r\n",
       "<!-- U_s1&#45;&gt;O_1 -->\r\n",
       "<g id=\"edge2\" class=\"edge\"><title>U_s1&#45;&gt;O_1</title>\r\n",
       "<path fill=\"none\" stroke=\"black\" d=\"M42.7536,-937.465C49.8742,-928.402 59.0008,-916.786 66.9951,-906.612\"/>\r\n",
       "<polygon fill=\"black\" stroke=\"black\" points=\"69.949,-908.517 73.3751,-898.492 64.4448,-904.193 69.949,-908.517\"/>\r\n",
       "</g>\r\n",
       "<!-- O_3&#45;&gt;H_3 -->\r\n",
       "<g id=\"edge16\" class=\"edge\"><title>O_3&#45;&gt;H_3</title>\r\n",
       "<path fill=\"none\" stroke=\"black\" d=\"M210.178,-288.055C211.849,-280.261 213.871,-270.822 215.745,-262.079\"/>\r\n",
       "<polygon fill=\"black\" stroke=\"black\" points=\"219.172,-262.787 217.845,-252.275 212.328,-261.32 219.172,-262.787\"/>\r\n",
       "</g>\r\n",
       "<!-- U_o3 -->\r\n",
       "<g id=\"node15\" class=\"node\"><title>U_o3</title>\r\n",
       "<ellipse fill=\"none\" stroke=\"black\" cx=\"206.547\" cy=\"-378\" rx=\"31.3957\" ry=\"18\"/>\r\n",
       "<text text-anchor=\"middle\" x=\"206.547\" y=\"-374.3\" font-family=\"Times New Roman,serif\" font-size=\"14.00\">U_o3</text>\r\n",
       "</g>\r\n",
       "<!-- U_o3&#45;&gt;O_3 -->\r\n",
       "<g id=\"edge13\" class=\"edge\"><title>U_o3&#45;&gt;O_3</title>\r\n",
       "<path fill=\"none\" stroke=\"black\" d=\"M206.547,-359.697C206.547,-351.983 206.547,-342.712 206.547,-334.112\"/>\r\n",
       "<polygon fill=\"black\" stroke=\"black\" points=\"210.047,-334.104 206.547,-324.104 203.047,-334.104 210.047,-334.104\"/>\r\n",
       "</g>\r\n",
       "<!-- S_2&#45;&gt;S_3 -->\r\n",
       "<g id=\"edge12\" class=\"edge\"><title>S_2&#45;&gt;S_3</title>\r\n",
       "<path fill=\"none\" stroke=\"black\" d=\"M81.2277,-648.026C72.0511,-608.744 53.4934,-509.048 79.5473,-432 83.1283,-421.41 89.4458,-410.967 95.7995,-402.187\"/>\r\n",
       "<polygon fill=\"black\" stroke=\"black\" points=\"98.7563,-404.083 102.065,-394.018 93.2019,-399.823 98.7563,-404.083\"/>\r\n",
       "</g>\r\n",
       "<!-- O_2 -->\r\n",
       "<g id=\"node21\" class=\"node\"><title>O_2</title>\r\n",
       "<ellipse fill=\"none\" stroke=\"black\" cx=\"176.547\" cy=\"-594\" rx=\"27\" ry=\"18\"/>\r\n",
       "<text text-anchor=\"middle\" x=\"176.547\" y=\"-590.3\" font-family=\"Times New Roman,serif\" font-size=\"14.00\">O_2</text>\r\n",
       "</g>\r\n",
       "<!-- S_2&#45;&gt;O_2 -->\r\n",
       "<g id=\"edge11\" class=\"edge\"><title>S_2&#45;&gt;O_2</title>\r\n",
       "<path fill=\"none\" stroke=\"black\" d=\"M102.664,-651.834C116.391,-641.274 135.857,-626.3 151.363,-614.373\"/>\r\n",
       "<polygon fill=\"black\" stroke=\"black\" points=\"153.715,-616.979 159.508,-608.107 149.447,-611.43 153.715,-616.979\"/>\r\n",
       "</g>\r\n",
       "<!-- U_s3 -->\r\n",
       "<g id=\"node17\" class=\"node\"><title>U_s3</title>\r\n",
       "<ellipse fill=\"none\" stroke=\"black\" cx=\"191.547\" cy=\"-450\" rx=\"30.5947\" ry=\"18\"/>\r\n",
       "<text text-anchor=\"middle\" x=\"191.547\" y=\"-446.3\" font-family=\"Times New Roman,serif\" font-size=\"14.00\">U_s3</text>\r\n",
       "</g>\r\n",
       "<!-- U_s3&#45;&gt;S_3 -->\r\n",
       "<g id=\"edge14\" class=\"edge\"><title>U_s3&#45;&gt;S_3</title>\r\n",
       "<path fill=\"none\" stroke=\"black\" d=\"M175.8,-434.496C164.958,-424.51 150.383,-411.086 138.285,-399.942\"/>\r\n",
       "<polygon fill=\"black\" stroke=\"black\" points=\"140.482,-397.208 130.756,-393.008 135.74,-402.357 140.482,-397.208\"/>\r\n",
       "</g>\r\n",
       "<!-- O_1&#45;&gt;H_1 -->\r\n",
       "<g id=\"edge4\" class=\"edge\"><title>O_1&#45;&gt;H_1</title>\r\n",
       "<path fill=\"none\" stroke=\"black\" d=\"M85.5473,-863.697C85.5473,-855.983 85.5473,-846.712 85.5473,-838.112\"/>\r\n",
       "<polygon fill=\"black\" stroke=\"black\" points=\"89.0474,-838.104 85.5473,-828.104 82.0474,-838.104 89.0474,-838.104\"/>\r\n",
       "</g>\r\n",
       "<!-- U_o1 -->\r\n",
       "<g id=\"node19\" class=\"node\"><title>U_o1</title>\r\n",
       "<ellipse fill=\"none\" stroke=\"black\" cx=\"110.547\" cy=\"-954\" rx=\"31.3957\" ry=\"18\"/>\r\n",
       "<text text-anchor=\"middle\" x=\"110.547\" y=\"-950.3\" font-family=\"Times New Roman,serif\" font-size=\"14.00\">U_o1</text>\r\n",
       "</g>\r\n",
       "<!-- U_o1&#45;&gt;O_1 -->\r\n",
       "<g id=\"edge1\" class=\"edge\"><title>U_o1&#45;&gt;O_1</title>\r\n",
       "<path fill=\"none\" stroke=\"black\" d=\"M104.495,-936.055C101.64,-928.059 98.1654,-918.331 94.9757,-909.4\"/>\r\n",
       "<polygon fill=\"black\" stroke=\"black\" points=\"98.2029,-908.029 91.5434,-899.789 91.6107,-910.384 98.2029,-908.029\"/>\r\n",
       "</g>\r\n",
       "<!-- U_a1 -->\r\n",
       "<g id=\"node20\" class=\"node\"><title>U_a1</title>\r\n",
       "<ellipse fill=\"none\" stroke=\"black\" cx=\"161.547\" cy=\"-810\" rx=\"30.5947\" ry=\"18\"/>\r\n",
       "<text text-anchor=\"middle\" x=\"161.547\" y=\"-806.3\" font-family=\"Times New Roman,serif\" font-size=\"14.00\">U_a1</text>\r\n",
       "</g>\r\n",
       "<!-- U_a1&#45;&gt;A_1 -->\r\n",
       "<g id=\"edge7\" class=\"edge\"><title>U_a1&#45;&gt;A_1</title>\r\n",
       "<path fill=\"none\" stroke=\"black\" d=\"M145.8,-794.496C134.958,-784.51 120.383,-771.086 108.285,-759.942\"/>\r\n",
       "<polygon fill=\"black\" stroke=\"black\" points=\"110.482,-757.208 100.756,-753.008 105.74,-762.357 110.482,-757.208\"/>\r\n",
       "</g>\r\n",
       "<!-- O_2&#45;&gt;H_2 -->\r\n",
       "<g id=\"edge8\" class=\"edge\"><title>O_2&#45;&gt;H_2</title>\r\n",
       "<path fill=\"none\" stroke=\"black\" d=\"M180.178,-576.055C181.849,-568.261 183.871,-558.822 185.745,-550.079\"/>\r\n",
       "<polygon fill=\"black\" stroke=\"black\" points=\"189.172,-550.787 187.845,-540.275 182.328,-549.32 189.172,-550.787\"/>\r\n",
       "</g>\r\n",
       "<!-- U_s2 -->\r\n",
       "<g id=\"node23\" class=\"node\"><title>U_s2</title>\r\n",
       "<ellipse fill=\"none\" stroke=\"black\" cx=\"161.547\" cy=\"-738\" rx=\"30.5947\" ry=\"18\"/>\r\n",
       "<text text-anchor=\"middle\" x=\"161.547\" y=\"-734.3\" font-family=\"Times New Roman,serif\" font-size=\"14.00\">U_s2</text>\r\n",
       "</g>\r\n",
       "<!-- U_s2&#45;&gt;S_2 -->\r\n",
       "<g id=\"edge6\" class=\"edge\"><title>U_s2&#45;&gt;S_2</title>\r\n",
       "<path fill=\"none\" stroke=\"black\" d=\"M145.8,-722.496C134.958,-712.51 120.383,-699.086 108.285,-687.942\"/>\r\n",
       "<polygon fill=\"black\" stroke=\"black\" points=\"110.482,-685.208 100.756,-681.008 105.74,-690.357 110.482,-685.208\"/>\r\n",
       "</g>\r\n",
       "<!-- U_o2 -->\r\n",
       "<g id=\"node24\" class=\"node\"><title>U_o2</title>\r\n",
       "<ellipse fill=\"none\" stroke=\"black\" cx=\"176.547\" cy=\"-666\" rx=\"31.3957\" ry=\"18\"/>\r\n",
       "<text text-anchor=\"middle\" x=\"176.547\" y=\"-662.3\" font-family=\"Times New Roman,serif\" font-size=\"14.00\">U_o2</text>\r\n",
       "</g>\r\n",
       "<!-- U_o2&#45;&gt;O_2 -->\r\n",
       "<g id=\"edge5\" class=\"edge\"><title>U_o2&#45;&gt;O_2</title>\r\n",
       "<path fill=\"none\" stroke=\"black\" d=\"M176.547,-647.697C176.547,-639.983 176.547,-630.712 176.547,-622.112\"/>\r\n",
       "<polygon fill=\"black\" stroke=\"black\" points=\"180.047,-622.104 176.547,-612.104 173.047,-622.104 180.047,-622.104\"/>\r\n",
       "</g>\r\n",
       "</g>\r\n",
       "</svg>\r\n"
      ],
      "text/plain": [
       "<graphviz.dot.Digraph at 0x167cacf98e0>"
      ]
     },
     "execution_count": 4,
     "metadata": {},
     "output_type": "execute_result"
    }
   ],
   "source": [
    "print('SCM for a POMDP with initial state U_s1 = S_1, state S_t and histories H_t')\n",
    "sprinkler.draw()"
   ]
  },
  {
   "cell_type": "markdown",
   "metadata": {},
   "source": [
    "__________________________"
   ]
  },
  {
   "cell_type": "markdown",
   "metadata": {},
   "source": [
    "### <a id=\"scm\"></a> Counterfactual Inference (CFI) in SMCs"
   ]
  },
  {
   "cell_type": "markdown",
   "metadata": {},
   "source": [
    "- *counterfactual query* : $(\\hat{x}_o, I, X_q)$ of an observation $\\hat{x}_o$ of some rvs $X_o \\subset X$, an intervention $I$ and query variables $X_q \\subset X$. \n",
    "\n",
    "To read : \"having observed  $\\hat{x}_o$ , we want to infer what $X_q$ *would have been*, had we done an intervention I, while *keeping everything else the same*\".\n",
    "\n",
    "How to answer that query ? \n",
    "1. Infer the unobserved noise source conditioned on the observations $\\hat{x}_o$ (i.e compute \n",
    "$p(U|\\hat{x}_o)$ and replace the prior $p(U)$ with the new $p(U|\\hat{x}_o)$.<br>**Results in new SCM, \n",
    "$\\mathcal{M}_{\\hat{x}_o}$.**\n",
    "2. Perform intervention $I$ on $\\mathcal{M}_{\\hat{x}_o}$. Yields $\\mathcal{M}_{\\hat{x}_o}^{\\mbox{do(I)}}$ which\n",
    "entails new counterfactual distributoin $p^{\\mbox{do(I)}|\\hat{x}_o}$.<br> **Return marginal** $p^{\\mbox{do(I)}|\\hat{x}_o}(x_q)$\n",
    "\n",
    "\n",
    "______________\n",
    "**Algo : Counterfactual Inference (CFI)**\n",
    "\n",
    "**Input** : data $\\hat{x}_o$, an SCM $\\mathcal{M}$, an intervention I, a query $X_q$.\n",
    "1. Sample noise variables from posterior : $\\hat{u} \\sim p(u|\\hat{x}_o)$\n",
    "2. Replace noise distribution in $p$ with $\\hat{u}$ : $p(u) \\leftarrow \\delta(u - \\hat{u})$\n",
    "3. Perform intervention I : $f_i \\leftarrow f_i^I$\n",
    "4. Simulate and return from the resulting model $x_q \\sim p^{\\mbox{do(I)}}(x_q|\\hat{u})$\n",
    "_________________"
   ]
  },
  {
   "cell_type": "markdown",
   "metadata": {},
   "source": [
    "#### Alice's choice"
   ]
  },
  {
   "cell_type": "code",
   "execution_count": 5,
   "metadata": {},
   "outputs": [],
   "source": [
    "scm = StructuralCausalModel({\n",
    "    \"Uc\": lambda           n_samples:  np.random.binomial(n=1,p=0.7,size=n_samples),\n",
    "    \"Ua\": lambda           n_samples : np.random.normal(loc=0, scale=0.1),\n",
    "    \"Uo\": lambda           n_samples:  np.random.normal(loc=0, scale=0.1),\n",
    "    \"A\": lambda Uc, Ua,    n_samples:  (np.mean(Uc)*Ua)**2,\n",
    "    \"O\": lambda A, Uo, Uc, n_samples : A*Uo*np.mean(Uc),\n",
    "})"
   ]
  },
  {
   "cell_type": "code",
   "execution_count": 6,
   "metadata": {},
   "outputs": [
    {
     "data": {
      "image/svg+xml": [
       "<?xml version=\"1.0\" encoding=\"UTF-8\" standalone=\"no\"?>\r\n",
       "<!DOCTYPE svg PUBLIC \"-//W3C//DTD SVG 1.1//EN\"\r\n",
       " \"http://www.w3.org/Graphics/SVG/1.1/DTD/svg11.dtd\">\r\n",
       "<!-- Generated by graphviz version 2.38.0 (20140413.2041)\r\n",
       " -->\r\n",
       "<!-- Title: %3 Pages: 1 -->\r\n",
       "<svg width=\"189pt\" height=\"188pt\"\r\n",
       " viewBox=\"0.00 0.00 189.00 188.00\" xmlns=\"http://www.w3.org/2000/svg\" xmlns:xlink=\"http://www.w3.org/1999/xlink\">\r\n",
       "<g id=\"graph0\" class=\"graph\" transform=\"scale(1 1) rotate(0) translate(4 184)\">\r\n",
       "<title>%3</title>\r\n",
       "<polygon fill=\"white\" stroke=\"none\" points=\"-4,4 -4,-184 185,-184 185,4 -4,4\"/>\r\n",
       "<!-- A -->\r\n",
       "<g id=\"node1\" class=\"node\"><title>A</title>\r\n",
       "<ellipse fill=\"none\" stroke=\"black\" cx=\"44\" cy=\"-90\" rx=\"27\" ry=\"18\"/>\r\n",
       "<text text-anchor=\"middle\" x=\"44\" y=\"-86.3\" font-family=\"Times New Roman,serif\" font-size=\"14.00\">A</text>\r\n",
       "</g>\r\n",
       "<!-- O -->\r\n",
       "<g id=\"node5\" class=\"node\"><title>O</title>\r\n",
       "<ellipse fill=\"none\" stroke=\"black\" cx=\"99\" cy=\"-18\" rx=\"27\" ry=\"18\"/>\r\n",
       "<text text-anchor=\"middle\" x=\"99\" y=\"-14.3\" font-family=\"Times New Roman,serif\" font-size=\"14.00\">O</text>\r\n",
       "</g>\r\n",
       "<!-- A&#45;&gt;O -->\r\n",
       "<g id=\"edge5\" class=\"edge\"><title>A&#45;&gt;O</title>\r\n",
       "<path fill=\"none\" stroke=\"black\" d=\"M55.9342,-73.811C63.2136,-64.5464 72.6626,-52.5203 80.8544,-42.0944\"/>\r\n",
       "<polygon fill=\"black\" stroke=\"black\" points=\"83.663,-44.1849 87.0891,-34.1593 78.1587,-39.8601 83.663,-44.1849\"/>\r\n",
       "</g>\r\n",
       "<!-- Ua -->\r\n",
       "<g id=\"node2\" class=\"node\"><title>Ua</title>\r\n",
       "<ellipse fill=\"none\" stroke=\"black\" cx=\"27\" cy=\"-162\" rx=\"27\" ry=\"18\"/>\r\n",
       "<text text-anchor=\"middle\" x=\"27\" y=\"-158.3\" font-family=\"Times New Roman,serif\" font-size=\"14.00\">Ua</text>\r\n",
       "</g>\r\n",
       "<!-- Ua&#45;&gt;A -->\r\n",
       "<g id=\"edge3\" class=\"edge\"><title>Ua&#45;&gt;A</title>\r\n",
       "<path fill=\"none\" stroke=\"black\" d=\"M31.1152,-144.055C33.0081,-136.261 35.3004,-126.822 37.4237,-118.079\"/>\r\n",
       "<polygon fill=\"black\" stroke=\"black\" points=\"40.8457,-118.819 39.8046,-108.275 34.0434,-117.167 40.8457,-118.819\"/>\r\n",
       "</g>\r\n",
       "<!-- Uc -->\r\n",
       "<g id=\"node3\" class=\"node\"><title>Uc</title>\r\n",
       "<ellipse fill=\"none\" stroke=\"black\" cx=\"99\" cy=\"-162\" rx=\"27\" ry=\"18\"/>\r\n",
       "<text text-anchor=\"middle\" x=\"99\" y=\"-158.3\" font-family=\"Times New Roman,serif\" font-size=\"14.00\">Uc</text>\r\n",
       "</g>\r\n",
       "<!-- Uc&#45;&gt;A -->\r\n",
       "<g id=\"edge1\" class=\"edge\"><title>Uc&#45;&gt;A</title>\r\n",
       "<path fill=\"none\" stroke=\"black\" d=\"M87.0658,-145.811C79.7864,-136.546 70.3374,-124.52 62.1456,-114.094\"/>\r\n",
       "<polygon fill=\"black\" stroke=\"black\" points=\"64.8413,-111.86 55.9109,-106.159 59.337,-116.185 64.8413,-111.86\"/>\r\n",
       "</g>\r\n",
       "<!-- Uc&#45;&gt;O -->\r\n",
       "<g id=\"edge2\" class=\"edge\"><title>Uc&#45;&gt;O</title>\r\n",
       "<path fill=\"none\" stroke=\"black\" d=\"M99,-143.871C99,-119.67 99,-75.2108 99,-46.3932\"/>\r\n",
       "<polygon fill=\"black\" stroke=\"black\" points=\"102.5,-46.1892 99,-36.1893 95.5001,-46.1893 102.5,-46.1892\"/>\r\n",
       "</g>\r\n",
       "<!-- Uo -->\r\n",
       "<g id=\"node4\" class=\"node\"><title>Uo</title>\r\n",
       "<ellipse fill=\"none\" stroke=\"black\" cx=\"154\" cy=\"-90\" rx=\"27\" ry=\"18\"/>\r\n",
       "<text text-anchor=\"middle\" x=\"154\" y=\"-86.3\" font-family=\"Times New Roman,serif\" font-size=\"14.00\">Uo</text>\r\n",
       "</g>\r\n",
       "<!-- Uo&#45;&gt;O -->\r\n",
       "<g id=\"edge4\" class=\"edge\"><title>Uo&#45;&gt;O</title>\r\n",
       "<path fill=\"none\" stroke=\"black\" d=\"M142.066,-73.811C134.786,-64.5464 125.337,-52.5203 117.146,-42.0944\"/>\r\n",
       "<polygon fill=\"black\" stroke=\"black\" points=\"119.841,-39.8601 110.911,-34.1593 114.337,-44.1849 119.841,-39.8601\"/>\r\n",
       "</g>\r\n",
       "</g>\r\n",
       "</svg>\r\n"
      ],
      "text/plain": [
       "<graphviz.dot.Digraph at 0x167c7f8bdf0>"
      ]
     },
     "execution_count": 6,
     "metadata": {},
     "output_type": "execute_result"
    }
   ],
   "source": [
    "scm.cgm.draw()"
   ]
  },
  {
   "cell_type": "code",
   "execution_count": 7,
   "metadata": {},
   "outputs": [],
   "source": [
    "#ds_intervention = scm.do('A').do('O').sample(n_samples=100,\n",
    "#    set_values={\"A\": np.random.binomial(p=0.5, n=1, size=100), \n",
    "#               \"O\": np.random.binomial(p=0.5, n=1, size=100)})"
   ]
  },
  {
   "cell_type": "markdown",
   "metadata": {},
   "source": [
    "___\n",
    "**Lemma 1 : CFI for simulation**\n",
    "\n",
    "Let observations $\\hat{x}_0 \\sim p$ come from a SCM $\\mathcal{M}$ with density $p$.<br>Then the counterfactual density $p^{\\mbox{do(I)}|\\hat{x}_0}$ is an unbiased estimator of $p^{\\mbox{do(I)}}$, i.e.\n",
    "$ \\mathbb{E}_{\\hat{x}_0 \\sim p} [ p^{\\mbox{do(I)}|\\hat{x}_0}(x)] = p^{\\mbox{do(I)}}$\n",
    "\n",
    "___\n",
    "**Corollary 1 : Mixed counterfactual and prior simulation from an SCM**\n",
    "\n",
    "Assume we have observations $\\hat{x}_0 \\sim p$. <br>We can simulate from $\\mathcal{M}$, under any intervention $I$, i.e. obtain unbiased samples from $\\mathcal{M}^{\\mbox{do(I)}}$ by :\n",
    "1. a. from the posterior $p(u_{CF}|\\hat{x}_0)$, sampling values $u_{CF}$ for an arbitrary subset $U_{CF} \\subset U$ \n",
    "<br>b. sampling the remaining $U_{Prior} := U\\\\U_{CF}$ from the prior $p(u_{Prior})$\n",
    "2. Computing X with noise $u = u_{CF} \\cup u_{Prior}$\n",
    "\n",
    "___\n",
    "\n"
   ]
  },
  {
   "cell_type": "markdown",
   "metadata": {},
   "source": [
    "**Example** : \n",
    "\n",
    "Alice's choice : having oberved the context noise $\\hat{u}_c$ and chosen company $\\hat{a} = a_1$ that lead to concrete outcome $\\hat{o}$, she can try : \n",
    "- to infer the underlying scenario $\\underline{u_o} \\sim p(u_o|a_1, \\hat{u}_c, \\hat{o})$\n",
    "- reason counterfactually about new outcome X  had she joined $a_2$ : X = $f_o(a_2, \\hat{u}_c, \\underline{u_o})$ (**Corollary 1**)\n",
    "\n",
    "This should help her to make better decision in the future (in similar scenarios) by changing her decision making process $f_\\pi(U_c, U_a)$. Using counterfactual predictions sould be preferred instead of learning from her own new experiences."
   ]
  },
  {
   "cell_type": "markdown",
   "metadata": {},
   "source": [
    "Rmq : non independence of sampled noise variable $U_{CF}$ from posterior $P_{U_{CF}|\\hat{x}_o}$."
   ]
  },
  {
   "cell_type": "markdown",
   "metadata": {},
   "source": [
    "_______________________"
   ]
  },
  {
   "cell_type": "markdown",
   "metadata": {},
   "source": [
    "## 2. <a id=\"policy\"></a>Policy Evaluation <span  style=\"float:right\">[[toc]](#toc)</span >"
   ]
  },
  {
   "cell_type": "markdown",
   "metadata": {},
   "source": [
    "### <a id=\"off-policy\"></a> Off-policy evaluation : counterfactual reasoning in SCM for policy evaluation"
   ]
  },
  {
   "cell_type": "markdown",
   "metadata": {},
   "source": [
    "**Policy Evaluation (PE)** :\n",
    "\n",
    "The goal is to determine the value of a policy $\\pi$, ie its expected return $\\mathbb{E}_{\\pi}[G]$ without running the policy itself. \n",
    "\n",
    "___________\n",
    "\n",
    "Hyp : data $D=\\{\\hat{h}^i_T\\}_{i=1,..,N}$ of logged episodes $\\hat{h}^i_T$ from running a behavior policy $\\mu$. Also assume that $\\mathcal{M}$ is a SCM.<br> (Rmq : $\\mu$ chosen to be random)\n",
    "\n",
    "**Model-based policy evaluation (MB-PE)** :\n",
    "\n",
    "Estimate the policy on synthetic data, ie estimate $\\mathbb{E}_{p^{\\pi}}[G]$, having access to the model $\\mathcal{M}$. Drawbacks : any bias in $\\mathcal{M}$ propagates from $p^{\\pi}$ to the estimate $\\mathbb{E}_{p^{\\pi}}[G]$. The naive MB-PE with a SCM simpluy consists of sampling the scenarios $U \\sim P_U$ from the prior and them simulating a trajectory $\\tau$ from the functions $f_i$ and computing its return.\n",
    "\n",
    "**Counterfactual Off-Policy policy evaluation (CF-PE)** :\n",
    "\n",
    "Idea : given data $D$, off-policy evaluation of $\\pi$ can be sees as a counterfactual query with data $\\hat{h}^i_T$, under intervention $I(\\mu \\to \\pi)$ by querying variable $G$ (episode return). I.e sample scenarios from the posterio $u^i \\sim p^{\\mu}(.|\\hat{h}^i_T)$ instead of sampling from the prior (as in MB-PE)$. (**unbiased estimate guaranted by Lemma 1\n",
    "\n",
    "___\n",
    "\n",
    "**Corollary 2 : CF-PE unbiased** : \n",
    "\n",
    "Assuming no model mismatch, CF-PE is unbiased.\n",
    "____________\n",
    "**Algo : Counterfactual Policy Evaluation (CF-PE)**\n",
    "0. Input : an SCM $\\mathcal{M}$, initial policy $\\pi^0$, number of trajectory samples N.\n",
    "1. for $i \\in \\{1, ..., N\\}$ do : <br>\n",
    "    a. Sample from the replay buffer $\\hat{h}^i_T \\sim D$  <br>\n",
    "    b . Counterfactual evaluation of return $g_i = \\mbox{CFI}(\\hat{h}^i_T, \\mathcal{M}, I(\\mu \\to \\pi), G)$\n",
    "2. Return $\\frac{1}{N} \\sum_{i=1}^N g_i$"
   ]
  },
  {
   "cell_type": "markdown",
   "metadata": {},
   "source": [
    "# <a id=\"Sokoban\"></a> Sokoban Game <span  style=\"float:right\">[[toc]](#toc)</span >"
   ]
  },
  {
   "cell_type": "markdown",
   "metadata": {},
   "source": [
    "The *Sokoban* game is a japanese puzzle that an agent is suppose to solve by pushing different boxes onto targets. \n",
    "\n",
    "  **Description** : an agent is sutuated in a $10 \\times 10$ grid world (or $7 \\times 7$ for the *small* version) and is allowed to take five actions, which are moving (and pushing) to one of four adjacent tiles, plus a NOOP operation. The goal is to push two or three boxes onto two or three immobile targets. As boxes cannot be pulled, many actions results irreversibly in unsolvable states. Episode are length $T=50$, pushing a box onto a target yieds a reward of 1, removing a box from a target yiels a reward of -1 and solving a level results in a additional reward of 10."
   ]
  },
  {
   "cell_type": "markdown",
   "metadata": {},
   "source": [
    "*Latest Version*"
   ]
  },
  {
   "cell_type": "code",
   "execution_count": 83,
   "metadata": {},
   "outputs": [],
   "source": [
    "import gym\n",
    "import gym_sokoban\n",
    "from sokoban_wrappers import make_sokoban, render_po, render_full, ResetfromBuffer\n",
    "\n",
    "import random ; random.seed(1)"
   ]
  },
  {
   "cell_type": "markdown",
   "metadata": {},
   "source": [
    "**10x10**"
   ]
  },
  {
   "cell_type": "code",
   "execution_count": 84,
   "metadata": {},
   "outputs": [
    {
     "name": "stdout",
     "output_type": "stream",
     "text": [
      "Action Meaning : {0: 'no operation', 1: 'push up', 2: 'push down', 3: 'push left', 4: 'push right'} \n",
      "Observation Space : Box(10, 10, 7)\n"
     ]
    },
    {
     "data": {
      "image/png": "[encoded data removed]",
      "text/plain": [
       "<Figure size 720x360 with 4 Axes>"
      ]
     },
     "metadata": {
      "needs_background": "light"
     },
     "output_type": "display_data"
    }
   ],
   "source": [
    "env = make_sokoban(po_wrapper=True, action_wrapper=True, mask_proba=0.9)\n",
    "obs = env.reset()\n",
    "print('Action Meaning :', env.get_action_meanings(), '\\nObservation Space :', env.observation_space)\n",
    "\n",
    "fig, ax = plt.subplots(1,4, figsize=(10,5))\n",
    "for a in fig.axes: a.get_xaxis().set_visible(False) ; a.get_yaxis().set_visible(False) ;\n",
    "    \n",
    "render = [env.render(mode=mode) for mode in ['tiny_rgb_array', 'rgb_array']]\n",
    "ax[0].imshow(render_po(obs)) ; ax[0].set_title('Observation')\n",
    "ax[1].imshow(render_full(env.room_state)) ; ax[1].set_title('Processed render')\n",
    "ax[2].imshow(render[0]) ; ax[2].set_title('Full render')\n",
    "ax[3].imshow(render[1]) ; ax[3].set_title('Game render') ; plt.show()"
   ]
  },
  {
   "cell_type": "markdown",
   "metadata": {},
   "source": [
    "Remarks : \n",
    "1. as generating a room of size 10x10 that complies with all the constraint (nb of boxes and targets, solvable levels etc ..), it takes a non-negligeable timme to reset the environement. It goes so much faster with a 7x7 room, as constraints are ligther.\n",
    "2. setting the seed fixes the grid layout but not the item's position."
   ]
  },
  {
   "cell_type": "markdown",
   "metadata": {},
   "source": [
    "**7x7**"
   ]
  },
  {
   "cell_type": "code",
   "execution_count": 88,
   "metadata": {},
   "outputs": [
    {
     "data": {
      "image/png": "[encoded data removed]",
      "text/plain": [
       "<Figure size 720x360 with 4 Axes>"
      ]
     },
     "metadata": {
      "needs_background": "light"
     },
     "output_type": "display_data"
    }
   ],
   "source": [
    "env = make_sokoban(env_name='Sokoban-small-v0', po_wrapper=True, action_wrapper=True, mask_proba=0.9)\n",
    "obs = env.reset()\n",
    "\n",
    "fig, ax = plt.subplots(1,4, figsize=(10,5))\n",
    "for a in fig.axes: a.get_xaxis().set_visible(False) ; a.get_yaxis().set_visible(False) ;\n",
    "    \n",
    "render = [env.render(mode=mode) for mode in ['tiny_rgb_array', 'rgb_array']]\n",
    "ax[0].imshow(render_po(obs)) ; ax[0].set_title('Observation')\n",
    "ax[1].imshow(render_full(env.room_state)) ; ax[1].set_title('Processed render')\n",
    "ax[2].imshow(render[0]) ; ax[2].set_title('Full render')\n",
    "ax[3].imshow(render[1]) ; ax[3].set_title('Game render') ; plt.show()"
   ]
  },
  {
   "cell_type": "markdown",
   "metadata": {},
   "source": [
    "**Sakoban Game - Test Reset**"
   ]
  },
  {
   "cell_type": "markdown",
   "metadata": {},
   "source": [
    "We added a additinal wrapper to allow a player to reset the environment by providing the initial room configuration"
   ]
  },
  {
   "cell_type": "code",
   "execution_count": 11,
   "metadata": {},
   "outputs": [
    {
     "data": {
      "image/png": "[encoded data removed]",
      "text/plain": [
       "<Figure size 720x720 with 3 Axes>"
      ]
     },
     "metadata": {
      "needs_background": "light"
     },
     "output_type": "display_data"
    }
   ],
   "source": [
    "array = np.array([[0,0,0,0,0,0,0],\n",
    "                  [0,1,2,1,1,1,0],\n",
    "                  [0,1,1,1,1,4,0],\n",
    "                  [0,1,1,1,1,1,0],\n",
    "                  [0,1,1,1,2,4,0],\n",
    "                  [0,1,1,1,5,1,0],\n",
    "                  [0,0,0,0,0,0,0]], dtype = np.uint8)\n",
    "\n",
    "env = make_sokoban(env_name='Sokoban-small-v0', po_wrapper=True, action_wrapper=True, mask_proba=0.7, allow_reset=True)\n",
    "obs = env.reset(**{'array':array})\n",
    "\n",
    "fig, ax = plt.subplots(1,3, figsize=(10,10))\n",
    "for a in fig.axes: a.get_xaxis().set_visible(False) ; a.get_yaxis().set_visible(False) ;\n",
    "    \n",
    "ax[0].imshow(render_po(obs)) ; ax[0].set_title('Observation')\n",
    "ax[1].imshow(render_full(env.room_state)) ; ax[1].set_title('Processed render')\n",
    "ax[2].imshow(env.render(mode='rgb_array')) ; ax[2].set_title('Game render') ;"
   ]
  },
  {
   "cell_type": "markdown",
   "metadata": {},
   "source": [
    "To simplify training we generated a buffer of solvable levels which the environement will be sampling its initial state from. Argument *allow_reset* set to True."
   ]
  },
  {
   "cell_type": "code",
   "execution_count": 12,
   "metadata": {},
   "outputs": [
    {
     "name": "stdout",
     "output_type": "stream",
     "text": [
      "Room nb: 20\n"
     ]
    },
    {
     "data": {
      "image/png": "[encoded data removed]",
      "text/plain": [
       "<Figure size 720x720 with 3 Axes>"
      ]
     },
     "metadata": {
      "needs_background": "light"
     },
     "output_type": "display_data"
    }
   ],
   "source": [
    "env = make_sokoban(env_name='Sokoban-small-v0', po_wrapper=True, action_wrapper=True, mask_proba=0.7, allow_reset=True)\n",
    "env = ResetfromBuffer(env, 100) ; obs = env.reset()\n",
    "print('Room nb:', env.rand)\n",
    "\n",
    "fig, ax = plt.subplots(1,3, figsize=(10,10))\n",
    "for a in fig.axes: a.get_xaxis().set_visible(False) ; a.get_yaxis().set_visible(False) ;\n",
    "    \n",
    "ax[0].imshow(render_po(obs)) ; ax[0].set_title('Observation')\n",
    "ax[1].imshow(render_full(env.room_state)) ; ax[1].set_title('Processed render')\n",
    "ax[2].imshow(env.render(mode='rgb_array')) ; ax[2].set_title('Game render') ;"
   ]
  },
  {
   "cell_type": "markdown",
   "metadata": {},
   "source": [
    "The generated levels can be found in the following numpy-like file :\n",
    "    \n",
    "    rooms = np.load('rooms7x7.npy')\n",
    "    plt.imshow(render_full(rooms[id]))\n",
    "\n"
   ]
  },
  {
   "cell_type": "markdown",
   "metadata": {},
   "source": [
    "**Generate levels and save into buffer**"
   ]
  },
  {
   "cell_type": "code",
   "execution_count": 13,
   "metadata": {},
   "outputs": [],
   "source": [
    "from tqdm import tqdm_notebook as pbar\n",
    "import numpy as np\n",
    "\n",
    "if False :\n",
    "    \n",
    "    nb_room_generated = 1000\n",
    "    rooms = np.zeros((nb_room_generated,7,7), dtype=np.uint8)\n",
    "    \n",
    "    for r in pbar(range(nb_room_generated)):\n",
    "        env = make_sokoban(env_name='Sokoban-small-v0', po_wrapper=True, action_wrapper=True, mask_proba=0.7)\n",
    "        room = env.room_state\n",
    "        rooms[r] = room     \n",
    "        np.save('data/rooms7x7.npy', rooms)"
   ]
  },
  {
   "cell_type": "code",
   "execution_count": 14,
   "metadata": {},
   "outputs": [
    {
     "data": {
      "image/png": "[encoded data removed]",
      "text/plain": [
       "<Figure size 720x720 with 5 Axes>"
      ]
     },
     "metadata": {
      "needs_background": "light"
     },
     "output_type": "display_data"
    }
   ],
   "source": [
    "rooms = np.load('data/rooms7x7.npy')\n",
    "\n",
    "fig, ax = plt.subplots(1,5, figsize=(10,10))\n",
    "for a in fig.axes: a.get_xaxis().set_visible(False) ; a.get_yaxis().set_visible(False) ;\n",
    "\n",
    "for i in range(5):\n",
    "    ax[i].imshow(render_full(rooms[i])) ; ax[i].set_title('Room {}'.format(i))"
   ]
  },
  {
   "cell_type": "markdown",
   "metadata": {},
   "source": [
    "_______________________"
   ]
  },
  {
   "cell_type": "markdown",
   "metadata": {},
   "source": [
    "## <a id=\"rl-training\"></a> Train an RL Agent <span  style=\"float:right\">[[toc]](#toc)</span >\n",
    "### Generate a Policy $\\pi$ to evaluate\n"
   ]
  },
  {
   "cell_type": "markdown",
   "metadata": {},
   "source": [
    "#### 1.IMPALA \n",
    "*IMPALA : Scalable distributed Deep RL with importance weighted actor-learner architectures*, **Espeholt et al** (2018)<br>\n",
    "https://deepmind.com/blog/article/impala-scalable-distributed-deeprl-dmlab-30"
   ]
  },
  {
   "cell_type": "markdown",
   "metadata": {},
   "source": [
    "#### 2. A3C"
   ]
  },
  {
   "cell_type": "markdown",
   "metadata": {},
   "source": [
    "Train the agent using the baby-A3C algorithm proposed by Sam Greydanus (MIT License) (https://github.com/greydanus/baby-a3c)\n",
    ":\n",
    "\n",
    "    ! python baby_a3c.py --env Sokoban-small-v0 --processes 10"
   ]
  },
  {
   "cell_type": "code",
   "execution_count": 2,
   "metadata": {},
   "outputs": [
    {
     "data": {
      "text/plain": [
       "<All keys matched successfully>"
      ]
     },
     "execution_count": 2,
     "metadata": {},
     "output_type": "execute_result"
    }
   ],
   "source": [
    "import sys ; sys.path.append('C:/Users/damie/Desktop/WCS/baby_a3c')\n",
    "from test_a3c import run_test, create_env, SokobanPolicy\n",
    "\n",
    "model_path = 'baby_a3c/sokoban-small-v0/model.7.tar'\n",
    "model = SokobanPolicy(channels=7, memsize=256, num_actions=5)\n",
    "model.load_state_dict(torch.load(model_path))"
   ]
  },
  {
   "cell_type": "code",
   "execution_count": 3,
   "metadata": {},
   "outputs": [
    {
     "data": {
      "text/plain": [
       "{'run_epr': tensor([1.], dtype=torch.float64),\n",
       " 'run_loss': tensor([0.], dtype=torch.float64),\n",
       " 'episodes': tensor([1.], dtype=torch.float64),\n",
       " 'frames': tensor([50.], dtype=torch.float64)}"
      ]
     },
     "execution_count": 3,
     "metadata": {},
     "output_type": "execute_result"
    }
   ],
   "source": [
    "env = create_env('Sokoban-small-v0', mask_proba = 0.7,nb_room = 100) #; env.reset(provide_rand=2)\n",
    "run_test(model, env, render = True, sleep_time = 0.1, stochasticity = 1)"
   ]
  },
  {
   "cell_type": "markdown",
   "metadata": {},
   "source": [
    "____________________________________________"
   ]
  },
  {
   "cell_type": "markdown",
   "metadata": {},
   "source": [
    "### Data Collection $\\hat{h}_T$ under policy $\\mu$"
   ]
  },
  {
   "cell_type": "markdown",
   "metadata": {},
   "source": [
    "The data $\\hat{h}_T$ is collected under a uniform random policy $\\mu$. Let's do a rollout of an episode with T=50 :"
   ]
  },
  {
   "cell_type": "code",
   "execution_count": 92,
   "metadata": {},
   "outputs": [
    {
     "data": {
      "image/png": "[encoded data removed]",
      "text/plain": [
       "<Figure size 720x720 with 5 Axes>"
      ]
     },
     "metadata": {
      "needs_background": "light"
     },
     "output_type": "display_data"
    }
   ],
   "source": [
    "from rollout import rollout, make_sokoban\n",
    "from sokoban_wrappers import make_sokoban, render_po, render_full\n",
    "\n",
    "history = rollout(T=50, env_name='Sokoban-small-v0', po_wrapper=True, action_wrapper=True, mask_proba=0.7)\n",
    "\n",
    "fig, ax = plt.subplots(1,5, figsize=(10,10))\n",
    "for a in fig.axes: a.get_xaxis().set_visible(False) ; a.get_yaxis().set_visible(False) ;\n",
    "\n",
    "ax[0].imshow(render_full(history['initial_state']))\n",
    "ax[0].set_title('Initial state')\n",
    "for it, i in enumerate(range(0,40,10)):\n",
    "    arr = history['obs'][i]\n",
    "    ax[it+1].imshow(render_po(arr))\n",
    "    ax[it+1].set_title('t={}'.format(i))"
   ]
  },
  {
   "cell_type": "markdown",
   "metadata": {},
   "source": [
    "## <a id=\"draw\"></a>Draw : A Recurrent Neural Network For Image Generation <span  style=\"float:right\">[[toc]](#toc)</span >"
   ]
  },
  {
   "cell_type": "markdown",
   "metadata": {},
   "source": [
    "*DRAW: A Recurrent Neural Network For Image Generation* K. Gregor, I. Danihelka, Alex Graves, et al https://arxiv.org/abs/1502.04623"
   ]
  },
  {
   "cell_type": "markdown",
   "metadata": {},
   "source": [
    "The only part of the model that remains to be identified is the initial state distribution $p(U_{s_1})$. The authors proposed to use the DRAW model, a convolutional and recurrent neural network for image generation : \n",
    "1. first the obersvational history $\\hat{h}_T$ is summarized by a convolutional LSTM.\n",
    "2. Fed into a DRAW model to generate $U_{s_1} \\in \\{0,1\\}^{10 \\times 10 \\times 7}$"
   ]
  },
  {
   "cell_type": "code",
   "execution_count": 87,
   "metadata": {},
   "outputs": [],
   "source": [
    "from DRAW.draw_model import DRAWModel, train_draw, params\n",
    "from sokoban_wrappers import make_sokoban, render_po, render_full\n",
    "from check_sokoban import fix_player, fix_item, predict_initial_state,\\\n",
    "                            start_allowed, reward_correction, quality_check"
   ]
  },
  {
   "cell_type": "markdown",
   "metadata": {},
   "source": [
    "Load the data"
   ]
  },
  {
   "cell_type": "code",
   "execution_count": 4,
   "metadata": {},
   "outputs": [
    {
     "name": "stdout",
     "output_type": "stream",
     "text": [
      "Train data : (450, 51, 7, 7, 7) \n",
      "Test data  : (100, 51, 7, 7, 7)\n"
     ]
    }
   ],
   "source": [
    "files = sorted(os.listdir('DRAW/data/7x7/'))\n",
    "max_folder = min(len(files), 10)\n",
    "split = max_folder - int(0.1*max_folder)\n",
    "\n",
    "data_train = np.load('DRAW/data/7x7/sokoban_000.npy')\n",
    "data_test = np.load('DRAW/data/7x7/sokoban_{}.npy'.format(str(split).zfill(3)))\n",
    "\n",
    "for i in range(1,split):\n",
    "    data_train = np.concatenate([data_train, np.load('DRAW/data/7x7/sokoban_{}.npy'.format(str(i).zfill(3)))], axis=0)\n",
    "for i in range(split, max_folder):\n",
    "    data_test = np.concatenate([data_test, np.load('DRAW/data/7x7/sokoban_{}.npy'.format(str(i).zfill(3)))], axis=0)\n",
    "\n",
    "data_train = np.transpose(data_train, (0, 1, 4, 2, 3))\n",
    "data_test = np.transpose(data_test, (0, 1, 4, 2, 3))\n",
    "print('Train data :', data_train.shape, '\\nTest data  :', data_test.shape)"
   ]
  },
  {
   "cell_type": "markdown",
   "metadata": {},
   "source": [
    "__________________________________"
   ]
  },
  {
   "cell_type": "markdown",
   "metadata": {},
   "source": [
    "### <a id=\"countereval\"></a> Counterfactual Policy Evaluation (CF-PE) <span  style=\"float:right\">[[toc]](#toc)</span >"
   ]
  },
  {
   "cell_type": "markdown",
   "metadata": {},
   "source": [
    "**Pseudo-Algo : Counterfactual Policy Evaluation (CF-PE)**\n",
    "0. Input : \n",
    "    - an SCM $\\mathcal{M}$, \n",
    "    - policy $\\pi$ to evaluate \n",
    "    - number of trajectory samples N.\n",
    "<br><br>\n",
    "1. for $i \\in \\{1, ..., N\\}$ do : <br>\n",
    " - Sample from the replay buffer $\\hat{h}^i_T \\sim D$  <br>\n",
    " - Counterfactual evaluation of return $g_i = \\mbox{CFI}(\\hat{h}^i_T, \\mathcal{M}, I(\\mu \\to \\pi), G)$\n",
    "<br><br>\n",
    "2. Return $\\frac{1}{N} \\sum_{i=1}^N g_i$"
   ]
  },
  {
   "cell_type": "markdown",
   "metadata": {},
   "source": [
    "**Application**\n",
    "\n",
    "In our case study, the pseudo algo will give the following steps:\n",
    "0. Input : \n",
    "    - an SCM $\\mathcal{M}$, the *custom_reset* environement of our sokoban game\n",
    "    - number of trajectory samples N.\n",
    "    - initial random policy $\\mu$ that generated the data history $\\{\\hat{h}^i_T\\}_{i=0..N}$\n",
    "    - a policy $\\pi$ we want to evaluate\n",
    "<br><br>\n",
    "1. for $i \\in \\{0, ..., N\\}$ do : <br>\n",
    " - Sample a random rollout from the replay buffer $\\hat{h}^i_T \\sim D$  <br>\n",
    " - **Counterfactual query** : $\\mbox{CFI}(\\hat{h}^i_T, \\mathcal{M}, I(\\mu \\to \\pi), G)$\n",
    "     - Using the DRAW generative model, sample an initial state $\\hat{u}_i \\sim \\mbox{DRAW}(.|\\hat{h}^i_T)$ conditioned on the history.\n",
    "     - perform a rollout from the sampled initial state $\\hat{u}_i $ using the policy $\\pi$.\n",
    "     - compute and return the episode return $g_i$\n",
    "<br><br>\n",
    "2. Return $\\frac{1}{N} \\sum_{i=1}^N g_i$"
   ]
  },
  {
   "cell_type": "markdown",
   "metadata": {},
   "source": [
    "**Counterfactual Query**"
   ]
  },
  {
   "cell_type": "code",
   "execution_count": 6,
   "metadata": {},
   "outputs": [
    {
     "name": "stdout",
     "output_type": "stream",
     "text": [
      "Conv LSTM as encoder\n"
     ]
    }
   ],
   "source": [
    "from rollout import rollout, make_sokoban\n",
    "from sokoban_wrappers import make_sokoban, render_po, render_full\n",
    "import numpy as np\n",
    "\n",
    "T = 50\n",
    "channel, W, H = 7,7,7\n",
    "\n",
    "params['T'] = T ; params['z_size'] = 50#32\n",
    "params['A'] = H ; params['B'] = W ; params['channel'] = channel\n",
    "params['read_N'] =  params['write_N'] = H\n",
    "params['conv'] = True\n",
    "\n",
    "device = 'cpu'\n",
    "params['device'] = device\n",
    "draw_model = DRAWModel(params).to(device)\n",
    "optimizer = optim.Adam(draw_model.parameters(), lr=params['learning_rate'], betas=(params['beta1'], 0.999))\n",
    "\n",
    "checkpoint = True\n",
    "model_path = 'DRAW/checkpoint/7x7/{}/model_epoch_40'.format(T)\n",
    "\n",
    "if checkpoint :\n",
    "    draw_model.load_state_dict(torch.load(model_path)['model'])\n",
    "    optimizer.load_state_dict(torch.load(model_path)['optimizer'])    \n",
    "    params = torch.load(model_path)['params']\n",
    "\n",
    "#initial_states = np.load('data/rooms7x7.npy')[:100]"
   ]
  },
  {
   "cell_type": "code",
   "execution_count": 7,
   "metadata": {},
   "outputs": [
    {
     "name": "stdout",
     "output_type": "stream",
     "text": [
      "Counterfactual episode reward : 12.0\n"
     ]
    },
    {
     "data": {
      "image/png": "[encoded data removed]",
      "text/plain": [
       "<Figure size 216x216 with 1 Axes>"
      ]
     },
     "metadata": {
      "needs_background": "light"
     },
     "output_type": "display_data"
    }
   ],
   "source": [
    "fig, ax = plt.subplots(1,1, figsize=(3,3))\n",
    "for a in fig.axes: a.get_xaxis().set_visible(False) ; a.get_yaxis().set_visible(False) ;\n",
    "\n",
    "init_state = predict_initial_state(draw_model, data_train[2,1:(T+1)])\n",
    "env = create_env('Sokoban-small-v0', nb_room = 0)\n",
    "res = run_test(model, env, render = False, sleep_time = 0.1, **{'array':init_state.argmax(0)})\n",
    "\n",
    "ax.imshow(render_full(init_state.argmax(0))) ; ax.set_title('Generated initial state')\n",
    "print('Counterfactual episode reward :', float(res['run_epr']))"
   ]
  },
  {
   "cell_type": "code",
   "execution_count": 15,
   "metadata": {},
   "outputs": [],
   "source": [
    "def PE_Sokoban(policy, n_samples, stochasticity = 1):\n",
    "    epr = []\n",
    "    for i in range(n_samples):\n",
    "        env = create_env('Sokoban-small-v0', nb_room = 100)\n",
    "        res = run_test(policy, env, stochasticity = stochasticity, render = False)\n",
    "        epr.append(float(res['run_epr']))\n",
    "    return np.mean(epr)"
   ]
  },
  {
   "cell_type": "code",
   "execution_count": 13,
   "metadata": {},
   "outputs": [
    {
     "data": {
      "text/plain": [
       "6.766666666666667"
      ]
     },
     "execution_count": 13,
     "metadata": {},
     "output_type": "execute_result"
    }
   ],
   "source": [
    "PE_Sokoban(model, 30)"
   ]
  },
  {
   "cell_type": "code",
   "execution_count": 70,
   "metadata": {},
   "outputs": [],
   "source": [
    "def CF_PE_Sokoban(policy, draw_model, n_samples):\n",
    "    epr = {}\n",
    "    for i in range(n_samples):\n",
    "        \n",
    "        # Select randomly a room id\n",
    "        ind = np.random.randint(100)\n",
    "        env = create_env('Sokoban-small-v0', nb_room=100,  mask_proba=0.7)\n",
    "        env.reset()\n",
    "        true_initiale_state = env.room_state.copy()\n",
    "        history = rollout(T=draw_model.T, env_name='Sokoban-small-v0', po_wrapper=True, \n",
    "                          action_wrapper=True, mask_proba=0.7,  allow_reset=True, array = true_initiale_state)\n",
    "        history = np.concatenate([np.expand_dims(obs, axis=0) for obs in history['obs']], axis=0)\n",
    "        init_state = predict_initial_state(draw_model, history, transpose = True)\n",
    "        init_state_copy = init_state.argmax(0).copy()      \n",
    "\n",
    "        for stochasticity in [0.3, 0.6, 1]:\n",
    "            if start_allowed(init_state_copy.copy()):\n",
    "                \n",
    "                env = create_env('Sokoban-small-v0', nb_room = 0,  mask_proba=0.7)\n",
    "                res = run_test(policy, env, render = False, stochasticity=stochasticity,\n",
    "                                       **{'array':init_state_copy.copy()})\n",
    "                reward = float(res['run_epr'])\n",
    "                reward = reward_correction(init_state_copy.copy(), reward)\n",
    "                epr[stochasticity] = epr.get(stochasticity, []) + [reward]\n",
    "            else : \n",
    "                epr[stochasticity] = epr.get(stochasticity, []) + [0]\n",
    "\n",
    "    return epr"
   ]
  },
  {
   "cell_type": "code",
   "execution_count": 102,
   "metadata": {},
   "outputs": [
    {
     "name": "stdout",
     "output_type": "stream",
     "text": [
      "PE for policy with stochasticity 0.7 : 2.83\n",
      "PE for policy with stochasticity 0.4 : 4.37\n",
      "PE for policy with stochasticity 0 : 7.13\n"
     ]
    }
   ],
   "source": [
    "pe_results = CF_PE_Sokoban(model, draw_model, 30)\n",
    "\n",
    "for i in pe_results.keys():\n",
    "    print('PE for policy with stochasticity {} : {:.2f}'.format(1-i, np.mean(pe_results[i])))"
   ]
  },
  {
   "cell_type": "markdown",
   "metadata": {},
   "source": [
    "### Experimental Results on Policy Evaluation "
   ]
  },
  {
   "cell_type": "code",
   "execution_count": 84,
   "metadata": {
    "scrolled": true
   },
   "outputs": [
    {
     "name": "stdout",
     "output_type": "stream",
     "text": [
      "Conv LSTM as encoder\n",
      "1\n",
      "DRAW/checkpoint/7x7/1/model_epoch_30\n",
      "Conv LSTM as encoder\n",
      "5\n",
      "DRAW/checkpoint/7x7/5/model_epoch_30\n",
      "Conv LSTM as encoder\n",
      "20\n",
      "DRAW/checkpoint/7x7/20/model_epoch_20\n",
      "Conv LSTM as encoder\n",
      "50\n",
      "DRAW/checkpoint/7x7/50/model_epoch_40\n",
      "Conv LSTM as encoder\n"
     ]
    }
   ],
   "source": [
    "device = 'cpu'\n",
    "draw_model = DRAWModel(params).to(device)\n",
    "optimizer = optim.Adam(draw_model.parameters(), lr=params['learning_rate'], betas=(params['beta1'], 0.999))\n",
    "import os\n",
    "results = {}\n",
    "for T in [1, 5, 20, 50]:\n",
    "    print(T)\n",
    "    folder_path = 'DRAW/checkpoint/7x7/{}'.format(T)\n",
    "    model_path = folder_path + '/' + sorted(os.listdir(folder_path))[-1]\n",
    "    print(model_path)\n",
    "    params = torch.load(model_path)['params']\n",
    "    params['device'] = device\n",
    "    \n",
    "    draw_model = DRAWModel(params).to(device)\n",
    "    optimizer = optim.Adam(draw_model.parameters(), lr=params['learning_rate'], betas=(params['beta1'], 0.999))\n",
    "\n",
    "    draw_model.load_state_dict(torch.load(model_path)['model'])\n",
    "    optimizer.load_state_dict(torch.load(model_path)['optimizer'])    \n",
    "\n",
    "    results[T] = CF_PE_Sokoban(model, draw_model, 100)"
   ]
  },
  {
   "cell_type": "code",
   "execution_count": 101,
   "metadata": {},
   "outputs": [
    {
     "name": "stdout",
     "output_type": "stream",
     "text": [
      "True PE with stochasticity 0.7 : 2.61\n",
      "True PE with stochasticity 0.4 : 4.50\n",
      "True PE with stochasticity 0 : 7.53\n"
     ]
    }
   ],
   "source": [
    "true_pe = {}\n",
    "for s in [0.3, 0.6, 1]:\n",
    "    true_pe[s] = PE_Sokoban(model, 300, stochasticity = s)    \n",
    "    print('True PE with stochasticity {} : {:.2f}'.format(1-s, np.mean(true_pe[s])))"
   ]
  },
  {
   "cell_type": "code",
   "execution_count": 86,
   "metadata": {},
   "outputs": [
    {
     "data": {
      "text/plain": [
       "<matplotlib.legend.Legend at 0x18c72d77520>"
      ]
     },
     "execution_count": 86,
     "metadata": {},
     "output_type": "execute_result"
    },
    {
     "data": {
      "image/png": "[encoded data removed]",
      "text/plain": [
       "<Figure size 432x288 with 1 Axes>"
      ]
     },
     "metadata": {
      "needs_background": "light"
     },
     "output_type": "display_data"
    }
   ],
   "source": [
    "labels = ['weak', 'intermediary', 'strong']\n",
    "ax = plt.plot()\n",
    "for i, s in enumerate([0.3, 0.6, 1]):\n",
    "    l = []\n",
    "    for T in [1, 5, 20, 50]:\n",
    "        l.append(abs((np.mean(results[T][s]) - true_pe[s])/true_pe[s]))\n",
    "    plt.plot([1, 5,  20, 50], l, label = '{} policy'.format(labels[i]))\n",
    "plt.ylim([0,1])\n",
    "plt.legend()"
   ]
  },
  {
   "cell_type": "markdown",
   "metadata": {},
   "source": [
    "## <a id=\"counter\"></a> Counterfactually-Guided Policy Search <span  style=\"float:right\">[[toc]](#toc)</span >"
   ]
  },
  {
   "cell_type": "markdown",
   "metadata": {},
   "source": [
    "We assume that we have a model $\\mathcal{M}$ of the env, with trajetory distribution $p^\\pi$. The current policy estimate $\\pi^k$ is improved at iteration $k$ using return weighted regression : \n",
    "$$ \\pi^{k+1} = \\mbox{argmax}_{\\pi} \\int \\mbox{exp}(G(\\tau))\\cdot p^{\\pi^k}(\\tau)\\cdot\\mbox{log}p^{\\pi}(\\tau)\\mbox{ }d\\tau$$\n",
    "\n",
    "$$ \\pi^{k+1} = \\mbox{argmax}_{\\pi} \\sum_{i=1}^N \\mbox{exp}(G^i(\\tau^i))\\cdot \\frac{p^{\\pi^k}(\\tau^i)}{p^{\\lambda}(\\tau^i)}\\cdot\\mbox{log}p^{\\pi}(\\tau^i)\\quad,\\quad  \\pi^i \\sim p^\\lambda$$"
   ]
  },
  {
   "cell_type": "markdown",
   "metadata": {},
   "source": [
    "Assuming $\\mathcal{M}$ is an SCM, instead of sampling $\\tau^i$ directly from the prior $p^\\lambda$, we draw them from the counterfactual distribution $p^{\\lambda|\\hat{h}_T^i}$ with $\\hat{h}_T^i \\sim D$ from the replay buffer "
   ]
  },
  {
   "cell_type": "markdown",
   "metadata": {},
   "source": [
    "**Pseudo-Algo : Counterfactually Guided Policy Search (CF-GPS)**\n",
    "0. Input : \n",
    "    - an SCM $\\mathcal{M}$, \n",
    "    - initial policy $\\pi^0$.\n",
    "    - number of trajectory samples N.\n",
    "<br><br>\n",
    "1. for $k \\in \\{1, ..., \\}$ do : <br>\n",
    " - if *frequence* then :\n",
    "     - Update behavior policy $\\mu \\leftarrow \\pi^k$\n",
    " - for $i \\in \\{1, ..., N\\}$ do : <br>\n",
    "     - Get off-policy data from the true environement $\\hat{h}^i_T \\sim \\mathbb{p}^{\\mu}$  <br>\n",
    "     - Counterfactual rollout under planner $\\tau^i = \\mbox{CFI}(\\hat{h}^i_T, \\mathcal{M}, I(\\mu \\to \\pi^\\lambda), \\Gamma)$\n",
    " - $\\pi^k \\leftarrow$ policy improvement on trajectories $\\{\\tau^i\\}_{i=1..N}$ using update eq. \n",
    "<br><br>\n",
    "2. Return last policy $\\pi$"
   ]
  },
  {
   "cell_type": "markdown",
   "metadata": {},
   "source": [
    "**Pseudo-Algo : Counterfactually Guided Policy Search (CF-GPS)**\n",
    "0. Input : \n",
    "    - an SCM $\\mathcal{M}$, the *custom_reset* environement of our sokoban game\n",
    "    - initial policy $\\pi^0$.\n",
    "    - number of trajectory samples N.\n",
    "<br><br>\n",
    "1. for $k \\in \\{1, ..., \\}$ do : <br>\n",
    " - if *frequence* then :\n",
    "     - Update behavior policy $\\mu \\leftarrow \\pi^k$\n",
    " - for actor $a \\in \\{1, ..., N\\}$ do : <br>\n",
    "     - Get off-policy data from the true environement $\\hat{h}^i_T \\sim \\mathbb{p}^{\\mu}$  <br>\n",
    "     - Counterfactual rollout under planner $\\tau^i = \\mbox{CFI}(\\hat{h}^i_T, \\mathcal{M}, I(\\mu \\to \\pi^\\lambda), \\Gamma)$\n",
    "         - sample a scenario $\\hat{u} \\sim DRAW(.|\\hat{h}^i_T)$\n",
    "         - **hyp** : planner $\\lambda = \\beta \\lambda_e + (1-\\beta)\\pi$ assumed to be a mixture  <br>\n",
    "         between $\\pi$ and a pre-trained expert policy $\\lambda_e$\n",
    "         - simulate 10 counterfactual trajectories $\\{\\tau^i\\}_{i=1..10}$ under planner $\\lambda$<br>\n",
    "     - $\\pi^k \\leftarrow$ policy improvement on trajectories $\\{\\tau^i\\}_{i=1..10}$ using update eq. \n",
    "<br><br>\n",
    "2. Return last policy $\\pi$"
   ]
  },
  {
   "cell_type": "markdown",
   "metadata": {},
   "source": [
    "_______"
   ]
  },
  {
   "cell_type": "markdown",
   "metadata": {},
   "source": [
    "## <a id=\"discuss\"></a> Discussion <span  style=\"float:right\">[[toc]](#toc)</span >"
   ]
  },
  {
   "cell_type": "markdown",
   "metadata": {},
   "source": [
    "Rmq : \n",
    "- \"*initial states sampled from the models for GPS and MB-PS are **often** not solable, yielding inferior training data for th the policy $\\pi$*\"\n",
    "3.2 :\n",
    "- \"*for t=0, **in spite of extensive hyper-parameter search**, th emodel $p(U_{s1})$ was unable to accurectly capture the marginal distribution of initial levels.*\"\n",
    "- \"*a solvable level satisfies a large nunber of complex constraints that span the entire grid wolrd, which are hard for a parametric model to capture*\""
   ]
  },
  {
   "cell_type": "markdown",
   "metadata": {},
   "source": [
    "____"
   ]
  },
  {
   "cell_type": "markdown",
   "metadata": {},
   "source": [
    "##  <a id=\"appendix\"></a> Appendix Results <span  style=\"float:right\">[[toc]](#toc)</span >"
   ]
  },
  {
   "cell_type": "markdown",
   "metadata": {},
   "source": [
    "#### Model Mismatch Analysis"
   ]
  },
  {
   "cell_type": "markdown",
   "metadata": {},
   "source": [
    "_____________________"
   ]
  }
 ],
 "metadata": {
  "kernelspec": {
   "display_name": "Python 3",
   "language": "python",
   "name": "python3"
  },
  "language_info": {
   "codemirror_mode": {
    "name": "ipython",
    "version": 3
   },
   "file_extension": ".py",
   "mimetype": "text/x-python",
   "name": "python",
   "nbconvert_exporter": "python",
   "pygments_lexer": "ipython3",
   "version": "3.8.3"
  }
 },
 "nbformat": 4,
 "nbformat_minor": 2
}
